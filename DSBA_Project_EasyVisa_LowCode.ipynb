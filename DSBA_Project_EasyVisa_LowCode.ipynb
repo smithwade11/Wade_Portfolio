{
 "cells": [
  {
   "cell_type": "markdown",
   "id": "5i1Du122jTeM",
   "metadata": {
    "id": "5i1Du122jTeM"
   },
   "source": [
    "## EasyVisa Project\n",
    "***Marks: 60***"
   ]
  },
  {
   "cell_type": "markdown",
   "id": "2xUfZBo9JM9e",
   "metadata": {
    "id": "2xUfZBo9JM9e"
   },
   "source": [
    "## Problem Statement"
   ]
  },
  {
   "cell_type": "markdown",
   "id": "empty-shanghai",
   "metadata": {
    "id": "empty-shanghai"
   },
   "source": [
    "### Context:\n",
    "\n",
    "Business communities in the United States are facing high demand for human resources, but one of the constant challenges is identifying and attracting the right talent, which is perhaps the most important element in remaining competitive. Companies in the United States look for hard-working, talented, and qualified individuals both locally as well as abroad.\n",
    "\n",
    "The Immigration and Nationality Act (INA) of the US permits foreign workers to come to the United States to work on either a temporary or permanent basis. The act also protects US workers against adverse impacts on their wages or working conditions by ensuring US employers' compliance with statutory requirements when they hire foreign workers to fill workforce shortages. The immigration programs are administered by the Office of Foreign Labor Certification (OFLC).\n",
    "\n",
    "OFLC processes job certification applications for employers seeking to bring foreign workers into the United States and grants certifications in those cases where employers can demonstrate that there are not sufficient US workers available to perform the work at wages that meet or exceed the wage paid for the occupation in the area of intended employment.\n",
    "\n",
    "### Objective:\n",
    "\n",
    "In FY 2016, the OFLC processed 775,979 employer applications for 1,699,957 positions for temporary and permanent labor certifications. This was a nine percent increase in the overall number of processed applications from the previous year. The process of reviewing every case is becoming a tedious task as the number of applicants is increasing every year.\n",
    "\n",
    "The increasing number of applicants every year calls for a Machine Learning based solution that can help in shortlisting the candidates having higher chances of VISA approval. OFLC has hired the firm EasyVisa for data-driven solutions. You as a data  scientist at EasyVisa have to analyze the data provided and, with the help of a classification model:\n",
    "\n",
    "* Facilitate the process of visa approvals.\n",
    "* Recommend a suitable profile for the applicants for whom the visa should be certified or denied based on the drivers that significantly influence the case status.\n",
    "\n",
    "### Data Description\n",
    "\n",
    "The data contains the different attributes of employee and the employer. The detailed data dictionary is given below.\n",
    "\n",
    "* case_id: ID of each visa application\n",
    "* continent: Information of continent the employee\n",
    "* education_of_employee: Information of education of the employee\n",
    "* has_job_experience: Does the employee has any job experience? Y= Yes; N = No\n",
    "* requires_job_training: Does the employee require any job training? Y = Yes; N = No\n",
    "* no_of_employees: Number of employees in the employer's company\n",
    "* yr_of_estab: Year in which the employer's company was established\n",
    "* region_of_employment: Information of foreign worker's intended region of employment in the US.\n",
    "* prevailing_wage:  Average wage paid to similarly employed workers in a specific occupation in the area of intended employment. The purpose of the prevailing wage is to ensure that the foreign worker is not underpaid compared to other workers offering the same or similar service in the same area of employment.\n",
    "* unit_of_wage: Unit of prevailing wage. Values include Hourly, Weekly, Monthly, and Yearly.\n",
    "* full_time_position: Is the position of work full-time? Y = Full Time Position; N = Part Time Position\n",
    "* case_status:  Flag indicating if the Visa was certified or denied"
   ]
  },
  {
   "cell_type": "markdown",
   "id": "0202dc63",
   "metadata": {
    "id": "0202dc63"
   },
   "source": [
    "### **Please read the instructions carefully before starting the project.**\n",
    "This is a commented Jupyter IPython Notebook file in which all the instructions and tasks to be performed are mentioned.\n",
    "* Blanks '_______' are provided in the notebook that\n",
    "needs to be filled with an appropriate code to get the correct result. With every '_______' blank, there is a comment that briefly describes what needs to be filled in the blank space.\n",
    "* Identify the task to be performed correctly, and only then proceed to write the required code.\n",
    "* Fill the code wherever asked by the commented lines like \"# write your code here\" or \"# complete the code\". Running incomplete code may throw error.\n",
    "* Please run the codes in a sequential manner from the beginning to avoid any unnecessary errors.\n",
    "* Add the results/observations (wherever mentioned) derived from the analysis in the presentation and submit the same."
   ]
  },
  {
   "cell_type": "markdown",
   "id": "c1cd4628",
   "metadata": {
    "id": "c1cd4628"
   },
   "source": [
    "## Importing necessary libraries"
   ]
  },
  {
   "cell_type": "code",
   "execution_count": 2,
   "id": "canadian-maple",
   "metadata": {
    "executionInfo": {
     "elapsed": 3195,
     "status": "ok",
     "timestamp": 1689450166817,
     "user": {
      "displayName": "Wade Smith",
      "userId": "10836431775502422548"
     },
     "user_tz": 240
    },
    "id": "canadian-maple"
   },
   "outputs": [],
   "source": [
    "\n",
    "\n",
    "import warnings\n",
    "\n",
    "warnings.filterwarnings(\"ignore\")\n",
    "\n",
    "# Libraries to help with reading and manipulating data\n",
    "import numpy as np\n",
    "import pandas as pd\n",
    "\n",
    "# Library to split data\n",
    "from sklearn.model_selection import train_test_split\n",
    "\n",
    "# libaries to help with data visualization\n",
    "import matplotlib.pyplot as plt\n",
    "import seaborn as sns\n",
    "\n",
    "# Removes the limit for the number of displayed columns\n",
    "pd.set_option(\"display.max_columns\", None)\n",
    "# Sets the limit for the number of displayed rows\n",
    "pd.set_option(\"display.max_rows\", 100)\n",
    "\n",
    "\n",
    "# Libraries different ensemble classifiers\n",
    "from sklearn.ensemble import (\n",
    "    BaggingClassifier,\n",
    "    RandomForestClassifier,\n",
    "    AdaBoostClassifier,\n",
    "    GradientBoostingClassifier,\n",
    "    StackingClassifier,\n",
    ")\n",
    "\n",
    "\n",
    "from sklearn.tree import DecisionTreeClassifier\n",
    "\n",
    "# Libraries to get different metric scores\n",
    "from sklearn import metrics\n",
    "from sklearn.metrics import (\n",
    "    confusion_matrix,\n",
    "    accuracy_score,\n",
    "    precision_score,\n",
    "    recall_score,\n",
    "    f1_score,\n",
    ")\n",
    "\n",
    "# To tune different models\n",
    "from sklearn.model_selection import GridSearchCV"
   ]
  },
  {
   "cell_type": "markdown",
   "id": "thorough-passion",
   "metadata": {
    "id": "thorough-passion"
   },
   "source": [
    "## Importing Dataset"
   ]
  },
  {
   "cell_type": "code",
   "execution_count": 3,
   "id": "alleged-teaching",
   "metadata": {
    "executionInfo": {
     "elapsed": 1648,
     "status": "ok",
     "timestamp": 1689450186927,
     "user": {
      "displayName": "Wade Smith",
      "userId": "10836431775502422548"
     },
     "user_tz": 240
    },
    "id": "alleged-teaching"
   },
   "outputs": [],
   "source": [
    "visa = pd.read_csv('/Users/wadesmith/PGP-DSBA/Datasets/EasyVisa.csv') ##  Fill the blank to read the data"
   ]
  },
  {
   "cell_type": "code",
   "execution_count": 4,
   "id": "falling-annual",
   "metadata": {
    "executionInfo": {
     "elapsed": 16,
     "status": "ok",
     "timestamp": 1689450186928,
     "user": {
      "displayName": "Wade Smith",
      "userId": "10836431775502422548"
     },
     "user_tz": 240
    },
    "id": "falling-annual"
   },
   "outputs": [],
   "source": [
    "# copying data to another variable to avoid any changes to original data\n",
    "data = visa.copy()"
   ]
  },
  {
   "cell_type": "markdown",
   "id": "6vlJXoQkgcGI",
   "metadata": {
    "id": "6vlJXoQkgcGI"
   },
   "source": [
    "## Overview of the Dataset"
   ]
  },
  {
   "cell_type": "markdown",
   "id": "aboriginal-wrist",
   "metadata": {
    "id": "aboriginal-wrist"
   },
   "source": [
    "### View the first and last 5 rows of the dataset"
   ]
  },
  {
   "cell_type": "code",
   "execution_count": 13,
   "id": "judicial-lease",
   "metadata": {
    "colab": {
     "base_uri": "https://localhost:8080/",
     "height": 270
    },
    "executionInfo": {
     "elapsed": 15,
     "status": "ok",
     "timestamp": 1689450186928,
     "user": {
      "displayName": "Wade Smith",
      "userId": "10836431775502422548"
     },
     "user_tz": 240
    },
    "id": "judicial-lease",
    "outputId": "3225a86a-dd8e-4b78-9d65-22b1623e0c98"
   },
   "outputs": [
    {
     "data": {
      "text/html": [
       "<div>\n",
       "<style scoped>\n",
       "    .dataframe tbody tr th:only-of-type {\n",
       "        vertical-align: middle;\n",
       "    }\n",
       "\n",
       "    .dataframe tbody tr th {\n",
       "        vertical-align: top;\n",
       "    }\n",
       "\n",
       "    .dataframe thead th {\n",
       "        text-align: right;\n",
       "    }\n",
       "</style>\n",
       "<table border=\"1\" class=\"dataframe\">\n",
       "  <thead>\n",
       "    <tr style=\"text-align: right;\">\n",
       "      <th></th>\n",
       "      <th>case_id</th>\n",
       "      <th>continent</th>\n",
       "      <th>education_of_employee</th>\n",
       "      <th>has_job_experience</th>\n",
       "      <th>requires_job_training</th>\n",
       "      <th>no_of_employees</th>\n",
       "      <th>yr_of_estab</th>\n",
       "      <th>region_of_employment</th>\n",
       "      <th>prevailing_wage</th>\n",
       "      <th>unit_of_wage</th>\n",
       "      <th>full_time_position</th>\n",
       "      <th>case_status</th>\n",
       "    </tr>\n",
       "  </thead>\n",
       "  <tbody>\n",
       "    <tr>\n",
       "      <th>0</th>\n",
       "      <td>EZYV01</td>\n",
       "      <td>Asia</td>\n",
       "      <td>High School</td>\n",
       "      <td>N</td>\n",
       "      <td>N</td>\n",
       "      <td>14513</td>\n",
       "      <td>2007</td>\n",
       "      <td>West</td>\n",
       "      <td>592.2029</td>\n",
       "      <td>Hour</td>\n",
       "      <td>Y</td>\n",
       "      <td>Denied</td>\n",
       "    </tr>\n",
       "    <tr>\n",
       "      <th>1</th>\n",
       "      <td>EZYV02</td>\n",
       "      <td>Asia</td>\n",
       "      <td>Master's</td>\n",
       "      <td>Y</td>\n",
       "      <td>N</td>\n",
       "      <td>2412</td>\n",
       "      <td>2002</td>\n",
       "      <td>Northeast</td>\n",
       "      <td>83425.6500</td>\n",
       "      <td>Year</td>\n",
       "      <td>Y</td>\n",
       "      <td>Certified</td>\n",
       "    </tr>\n",
       "    <tr>\n",
       "      <th>2</th>\n",
       "      <td>EZYV03</td>\n",
       "      <td>Asia</td>\n",
       "      <td>Bachelor's</td>\n",
       "      <td>N</td>\n",
       "      <td>Y</td>\n",
       "      <td>44444</td>\n",
       "      <td>2008</td>\n",
       "      <td>West</td>\n",
       "      <td>122996.8600</td>\n",
       "      <td>Year</td>\n",
       "      <td>Y</td>\n",
       "      <td>Denied</td>\n",
       "    </tr>\n",
       "    <tr>\n",
       "      <th>3</th>\n",
       "      <td>EZYV04</td>\n",
       "      <td>Asia</td>\n",
       "      <td>Bachelor's</td>\n",
       "      <td>N</td>\n",
       "      <td>N</td>\n",
       "      <td>98</td>\n",
       "      <td>1897</td>\n",
       "      <td>West</td>\n",
       "      <td>83434.0300</td>\n",
       "      <td>Year</td>\n",
       "      <td>Y</td>\n",
       "      <td>Denied</td>\n",
       "    </tr>\n",
       "    <tr>\n",
       "      <th>4</th>\n",
       "      <td>EZYV05</td>\n",
       "      <td>Africa</td>\n",
       "      <td>Master's</td>\n",
       "      <td>Y</td>\n",
       "      <td>N</td>\n",
       "      <td>1082</td>\n",
       "      <td>2005</td>\n",
       "      <td>South</td>\n",
       "      <td>149907.3900</td>\n",
       "      <td>Year</td>\n",
       "      <td>Y</td>\n",
       "      <td>Certified</td>\n",
       "    </tr>\n",
       "  </tbody>\n",
       "</table>\n",
       "</div>"
      ],
      "text/plain": [
       "  case_id continent education_of_employee has_job_experience  \\\n",
       "0  EZYV01      Asia           High School                  N   \n",
       "1  EZYV02      Asia              Master's                  Y   \n",
       "2  EZYV03      Asia            Bachelor's                  N   \n",
       "3  EZYV04      Asia            Bachelor's                  N   \n",
       "4  EZYV05    Africa              Master's                  Y   \n",
       "\n",
       "  requires_job_training  no_of_employees  yr_of_estab region_of_employment  \\\n",
       "0                     N            14513         2007                 West   \n",
       "1                     N             2412         2002            Northeast   \n",
       "2                     Y            44444         2008                 West   \n",
       "3                     N               98         1897                 West   \n",
       "4                     N             1082         2005                South   \n",
       "\n",
       "   prevailing_wage unit_of_wage full_time_position case_status  \n",
       "0         592.2029         Hour                  Y      Denied  \n",
       "1       83425.6500         Year                  Y   Certified  \n",
       "2      122996.8600         Year                  Y      Denied  \n",
       "3       83434.0300         Year                  Y      Denied  \n",
       "4      149907.3900         Year                  Y   Certified  "
      ]
     },
     "execution_count": 13,
     "metadata": {},
     "output_type": "execute_result"
    }
   ],
   "source": [
    "data.head() ##  Complete the code to view top 5 rows of the data"
   ]
  },
  {
   "cell_type": "code",
   "execution_count": null,
   "id": "descending-david",
   "metadata": {
    "colab": {
     "base_uri": "https://localhost:8080/",
     "height": 270
    },
    "executionInfo": {
     "elapsed": 15,
     "status": "ok",
     "timestamp": 1689450186929,
     "user": {
      "displayName": "Wade Smith",
      "userId": "10836431775502422548"
     },
     "user_tz": 240
    },
    "id": "descending-david",
    "outputId": "18044d8d-4f1a-458d-d1f5-3d2951fd6427"
   },
   "outputs": [],
   "source": [
    "data.tail() ##  Complete the code to view last 5 rows of the data"
   ]
  },
  {
   "cell_type": "markdown",
   "id": "accessory-camel",
   "metadata": {
    "id": "accessory-camel"
   },
   "source": [
    "### Understand the shape of the dataset"
   ]
  },
  {
   "cell_type": "code",
   "execution_count": 5,
   "id": "regulation-elder",
   "metadata": {
    "colab": {
     "base_uri": "https://localhost:8080/"
    },
    "executionInfo": {
     "elapsed": 231,
     "status": "ok",
     "timestamp": 1689450187147,
     "user": {
      "displayName": "Wade Smith",
      "userId": "10836431775502422548"
     },
     "user_tz": 240
    },
    "id": "regulation-elder",
    "outputId": "4b1bff9f-3135-43b7-d85f-fa9660aff9f8"
   },
   "outputs": [
    {
     "data": {
      "text/plain": [
       "(25480, 12)"
      ]
     },
     "execution_count": 5,
     "metadata": {},
     "output_type": "execute_result"
    }
   ],
   "source": [
    "data.shape ##  Complete the code to view dimensions of the data"
   ]
  },
  {
   "cell_type": "markdown",
   "id": "assigned-berkeley",
   "metadata": {
    "id": "assigned-berkeley"
   },
   "source": [
    "### Check the data types of the columns for the dataset"
   ]
  },
  {
   "cell_type": "code",
   "execution_count": null,
   "id": "judicial-institute",
   "metadata": {
    "colab": {
     "base_uri": "https://localhost:8080/"
    },
    "executionInfo": {
     "elapsed": 4,
     "status": "ok",
     "timestamp": 1689450187147,
     "user": {
      "displayName": "Wade Smith",
      "userId": "10836431775502422548"
     },
     "user_tz": 240
    },
    "id": "judicial-institute",
    "outputId": "e274c67e-3ae4-43bf-b18b-f1fed32115c3"
   },
   "outputs": [],
   "source": [
    "data.info()"
   ]
  },
  {
   "cell_type": "code",
   "execution_count": 14,
   "id": "going-validation",
   "metadata": {
    "colab": {
     "base_uri": "https://localhost:8080/"
    },
    "executionInfo": {
     "elapsed": 225,
     "status": "ok",
     "timestamp": 1689450187370,
     "user": {
      "displayName": "Wade Smith",
      "userId": "10836431775502422548"
     },
     "user_tz": 240
    },
    "id": "going-validation",
    "outputId": "921aa309-46a5-4267-f97b-a1464ccd6396"
   },
   "outputs": [
    {
     "data": {
      "text/plain": [
       "0"
      ]
     },
     "execution_count": 14,
     "metadata": {},
     "output_type": "execute_result"
    }
   ],
   "source": [
    "# checking for duplicate values\n",
    "data.duplicated().sum() ##  Complete the code to check duplicate entries in the data"
   ]
  },
  {
   "cell_type": "markdown",
   "id": "standing-horizontal",
   "metadata": {
    "id": "standing-horizontal"
   },
   "source": [
    "## Exploratory Data Analysis"
   ]
  },
  {
   "cell_type": "markdown",
   "id": "american-venue",
   "metadata": {
    "id": "american-venue"
   },
   "source": [
    "#### Let's check the statistical summary of the data"
   ]
  },
  {
   "cell_type": "code",
   "execution_count": null,
   "id": "premium-wagner",
   "metadata": {
    "colab": {
     "base_uri": "https://localhost:8080/",
     "height": 426
    },
    "executionInfo": {
     "elapsed": 207,
     "status": "ok",
     "timestamp": 1689450187572,
     "user": {
      "displayName": "Wade Smith",
      "userId": "10836431775502422548"
     },
     "user_tz": 240
    },
    "id": "premium-wagner",
    "outputId": "0b865a0d-77dc-4df1-d1b9-c11145810e06"
   },
   "outputs": [],
   "source": [
    "data.describe(include = 'all').T ##  Complete the code to print the statistical summary of the data"
   ]
  },
  {
   "cell_type": "markdown",
   "id": "competent-timing",
   "metadata": {
    "id": "competent-timing"
   },
   "source": [
    "#### Fixing the negative values in number of employees columns"
   ]
  },
  {
   "cell_type": "code",
   "execution_count": null,
   "id": "whole-saying",
   "metadata": {
    "colab": {
     "base_uri": "https://localhost:8080/"
    },
    "executionInfo": {
     "elapsed": 29,
     "status": "ok",
     "timestamp": 1689450187573,
     "user": {
      "displayName": "Wade Smith",
      "userId": "10836431775502422548"
     },
     "user_tz": 240
    },
    "id": "whole-saying",
    "outputId": "2c6a084f-7425-4f48-9a4f-2b20af41bb79"
   },
   "outputs": [],
   "source": [
    "data.loc[data['no_of_employees'] < 0].shape ## Complete the code to check negative values in the employee column"
   ]
  },
  {
   "cell_type": "code",
   "execution_count": null,
   "id": "prescription-bosnia",
   "metadata": {
    "executionInfo": {
     "elapsed": 29,
     "status": "ok",
     "timestamp": 1689450187573,
     "user": {
      "displayName": "Wade Smith",
      "userId": "10836431775502422548"
     },
     "user_tz": 240
    },
    "id": "prescription-bosnia"
   },
   "outputs": [],
   "source": [
    "# taking the absolute values for number of employees\n",
    "data[\"no_of_employees\"] = abs(data[\"no_of_employees\"]) ## Write the function to convert the values to a positive number"
   ]
  },
  {
   "cell_type": "markdown",
   "id": "cutting-bookmark",
   "metadata": {
    "id": "cutting-bookmark"
   },
   "source": [
    "#### Let's check the count of each unique category in each of the categorical variables"
   ]
  },
  {
   "cell_type": "code",
   "execution_count": null,
   "id": "minute-helmet",
   "metadata": {
    "colab": {
     "base_uri": "https://localhost:8080/"
    },
    "executionInfo": {
     "elapsed": 28,
     "status": "ok",
     "timestamp": 1689450187573,
     "user": {
      "displayName": "Wade Smith",
      "userId": "10836431775502422548"
     },
     "user_tz": 240
    },
    "id": "minute-helmet",
    "outputId": "ddb0552c-1b57-4637-adcc-fd1d141691e8"
   },
   "outputs": [],
   "source": [
    "# Making a list of all catrgorical variables\n",
    "cat_col = list(data.select_dtypes(\"object\").columns)\n",
    "\n",
    "# Printing number of count of each unique value in each column\n",
    "for column in cat_col:\n",
    "    print(data[column].value_counts())\n",
    "    print(\"-\" * 50)"
   ]
  },
  {
   "cell_type": "code",
   "execution_count": null,
   "id": "occupied-classroom",
   "metadata": {
    "colab": {
     "base_uri": "https://localhost:8080/"
    },
    "executionInfo": {
     "elapsed": 19,
     "status": "ok",
     "timestamp": 1689450187574,
     "user": {
      "displayName": "Wade Smith",
      "userId": "10836431775502422548"
     },
     "user_tz": 240
    },
    "id": "occupied-classroom",
    "outputId": "8b4f7d61-e5de-4656-adef-a20280fffec5"
   },
   "outputs": [],
   "source": [
    "# checking the number of unique values\n",
    "data[\"case_id\"].nunique() ## Complete the code to check unique values in the mentioned column"
   ]
  },
  {
   "cell_type": "code",
   "execution_count": null,
   "id": "existing-sociology",
   "metadata": {
    "executionInfo": {
     "elapsed": 16,
     "status": "ok",
     "timestamp": 1689450187574,
     "user": {
      "displayName": "Wade Smith",
      "userId": "10836431775502422548"
     },
     "user_tz": 240
    },
    "id": "existing-sociology"
   },
   "outputs": [],
   "source": [
    "data.drop([\"case_id\"], axis=1, inplace=True) ## Complete the code to drop 'case_id' column from the data"
   ]
  },
  {
   "cell_type": "markdown",
   "id": "wooden-christian",
   "metadata": {
    "id": "wooden-christian"
   },
   "source": [
    "### Univariate Analysis"
   ]
  },
  {
   "cell_type": "code",
   "execution_count": null,
   "id": "superb-springfield",
   "metadata": {
    "executionInfo": {
     "elapsed": 338,
     "status": "ok",
     "timestamp": 1689450536032,
     "user": {
      "displayName": "Wade Smith",
      "userId": "10836431775502422548"
     },
     "user_tz": 240
    },
    "id": "superb-springfield"
   },
   "outputs": [],
   "source": [
    "def histogram_boxplot(data, feature, figsize=(15, 10), kde=False, bins=None, showfliers = False):\n",
    "    \"\"\"\n",
    "    Boxplot and histogram combined\n",
    "\n",
    "    data: dataframe\n",
    "    feature: dataframe column\n",
    "    figsize: size of figure (default (15,10))\n",
    "    kde: whether to show the density curve (default False)\n",
    "    bins: number of bins for histogram (default None)\n",
    "    \"\"\"\n",
    "    f2, (ax_box2, ax_hist2) = plt.subplots(\n",
    "        nrows=2,  # Number of rows of the subplot grid= 2\n",
    "        sharex=True,  # x-axis will be shared among all subplots\n",
    "        gridspec_kw={\"height_ratios\": (0.25, 0.75)},\n",
    "        figsize=figsize,\n",
    "    )  # creating the 2 subplots\n",
    "    sns.boxplot(\n",
    "        data=data, x=feature, ax=ax_box2, showmeans=True, color=\"violet\"\n",
    "    )  # boxplot will be created and a triangle will indicate the mean value of the column\n",
    "    sns.histplot(\n",
    "        data=data, x=feature, kde=kde, ax=ax_hist2, bins=bins\n",
    "    ) if bins else sns.histplot(\n",
    "        data=data, x=feature, kde=kde, ax=ax_hist2\n",
    "    )  # For histogram\n",
    "    ax_hist2.axvline(\n",
    "        data[feature].mean(), color=\"green\", linestyle=\"--\"\n",
    "    )  # Add mean to the histogram\n",
    "    ax_hist2.axvline(\n",
    "        data[feature].median(), color=\"black\", linestyle=\"-\"\n",
    "    )  # Add median to the histogram"
   ]
  },
  {
   "cell_type": "markdown",
   "id": "comic-inventory",
   "metadata": {
    "id": "comic-inventory"
   },
   "source": [
    "#### Observations on number of employees"
   ]
  },
  {
   "cell_type": "code",
   "execution_count": null,
   "id": "loaded-commercial",
   "metadata": {
    "colab": {
     "base_uri": "https://localhost:8080/",
     "height": 795
    },
    "executionInfo": {
     "elapsed": 7269,
     "status": "ok",
     "timestamp": 1689450551614,
     "user": {
      "displayName": "Wade Smith",
      "userId": "10836431775502422548"
     },
     "user_tz": 240
    },
    "id": "loaded-commercial",
    "outputId": "ce2d95f1-ce67-484b-e62d-b8e100a364bc"
   },
   "outputs": [],
   "source": [
    "histogram_boxplot(data, \"no_of_employees\")"
   ]
  },
  {
   "cell_type": "markdown",
   "id": "metric-apparel",
   "metadata": {
    "id": "metric-apparel"
   },
   "source": [
    "#### Observations on prevailing wage"
   ]
  },
  {
   "cell_type": "code",
   "execution_count": null,
   "id": "duplicate-theater",
   "metadata": {
    "colab": {
     "base_uri": "https://localhost:8080/",
     "height": 870
    },
    "executionInfo": {
     "elapsed": 640,
     "status": "ok",
     "timestamp": 1689194983389,
     "user": {
      "displayName": "Wade Smith",
      "userId": "10836431775502422548"
     },
     "user_tz": 240
    },
    "id": "duplicate-theater",
    "outputId": "ad7f8ead-ec79-4032-937a-e060b14b30d9"
   },
   "outputs": [],
   "source": [
    "histogram_boxplot(data, 'prevailing_wage') ## Complete the code to create histogram_boxplot for prevailing wage"
   ]
  },
  {
   "cell_type": "code",
   "execution_count": null,
   "id": "legendary-stone",
   "metadata": {
    "colab": {
     "base_uri": "https://localhost:8080/",
     "height": 522
    },
    "executionInfo": {
     "elapsed": 24,
     "status": "ok",
     "timestamp": 1689194983391,
     "user": {
      "displayName": "Wade Smith",
      "userId": "10836431775502422548"
     },
     "user_tz": 240
    },
    "id": "legendary-stone",
    "outputId": "09999bf1-2ac2-45a5-9c9d-6735c190057f"
   },
   "outputs": [],
   "source": [
    "# checking the observations which have less than 100 prevailing wage\n",
    "data.loc[data['prevailing_wage'] < 100] ## Complete the code to find the rows with less than 100 prevailing wage"
   ]
  },
  {
   "cell_type": "code",
   "execution_count": null,
   "id": "handmade-carroll",
   "metadata": {
    "colab": {
     "base_uri": "https://localhost:8080/"
    },
    "executionInfo": {
     "elapsed": 201,
     "status": "ok",
     "timestamp": 1689452807550,
     "user": {
      "displayName": "Wade Smith",
      "userId": "10836431775502422548"
     },
     "user_tz": 240
    },
    "id": "handmade-carroll",
    "outputId": "3e19990f-e24d-4cda-c319-5469c74193c4"
   },
   "outputs": [],
   "source": [
    "data.loc[data[\"prevailing_wage\"] < 100, \"unit_of_wage\"].value_counts() ## Complete the code to get the count of the values in the mentioned column"
   ]
  },
  {
   "cell_type": "code",
   "execution_count": null,
   "id": "proof-drove",
   "metadata": {
    "executionInfo": {
     "elapsed": 338,
     "status": "ok",
     "timestamp": 1689452832696,
     "user": {
      "displayName": "Wade Smith",
      "userId": "10836431775502422548"
     },
     "user_tz": 240
    },
    "id": "proof-drove"
   },
   "outputs": [],
   "source": [
    "# function to create labeled barplots\n",
    "\n",
    "\n",
    "def labeled_barplot(data, feature, boxplot_label = None, perc=False, n=None):\n",
    "    \"\"\"\n",
    "    Barplot with percentage at the top\n",
    "\n",
    "    data: dataframe\n",
    "    feature: dataframe column\n",
    "    perc: whether to display percentages instead of count (default is False)\n",
    "    n: displays the top n category levels (default is None, i.e., display all levels)\n",
    "    \"\"\"\n",
    "\n",
    "    total = len(data[feature])  # length of the column\n",
    "    count = data[feature].nunique()\n",
    "    if n is None:\n",
    "        plt.figure(figsize=(count + 2, 6))\n",
    "    else:\n",
    "        plt.figure(figsize=(n + 2, 6))\n",
    "\n",
    "    plt.xticks(rotation=90, fontsize=15)\n",
    "    ax = sns.countplot(\n",
    "        data=data,\n",
    "        x=feature,\n",
    "        palette=\"Paired\",\n",
    "        order=data[feature].value_counts().index[:n],\n",
    "    )\n",
    "\n",
    "    if boxplot_label:\n",
    "      ax.set_xlabel(boxplot_label)\n",
    "    else:\n",
    "      ax.set_xlabel(feature)\n",
    "\n",
    "    for p in ax.patches:\n",
    "        if perc == True:\n",
    "            label = \"{:.1f}%\".format(\n",
    "                100 * p.get_height() / total\n",
    "            )  # percentage of each class of the category\n",
    "        else:\n",
    "            label = p.get_height()  # count of each level of the category\n",
    "\n",
    "        x = p.get_x() + p.get_width() / 2  # width of the plot\n",
    "        y = p.get_height()  # height of the plot\n",
    "\n",
    "        ax.annotate(\n",
    "            label,\n",
    "            (x, y),\n",
    "            ha=\"center\",\n",
    "            va=\"center\",\n",
    "            size=12,\n",
    "            xytext=(0, 5),\n",
    "            textcoords=\"offset points\",\n",
    "        )  # annotate the percentage\n",
    "\n",
    "    plt.show()  # show the plot"
   ]
  },
  {
   "cell_type": "markdown",
   "id": "bulgarian-parts",
   "metadata": {
    "id": "bulgarian-parts"
   },
   "source": [
    "#### Observations on continent"
   ]
  },
  {
   "cell_type": "code",
   "execution_count": null,
   "id": "artistic-accounting",
   "metadata": {
    "colab": {
     "base_uri": "https://localhost:8080/",
     "height": 681
    },
    "executionInfo": {
     "elapsed": 1841,
     "status": "ok",
     "timestamp": 1689452968484,
     "user": {
      "displayName": "Wade Smith",
      "userId": "10836431775502422548"
     },
     "user_tz": 240
    },
    "id": "artistic-accounting",
    "outputId": "27150b73-c866-4472-d9a5-4b241a11a451"
   },
   "outputs": [],
   "source": [
    "labeled_barplot(data, \"continent\", \"Continent\" ,perc=True)"
   ]
  },
  {
   "cell_type": "markdown",
   "id": "editorial-command",
   "metadata": {
    "id": "editorial-command"
   },
   "source": [
    "#### Observations on education of employee"
   ]
  },
  {
   "cell_type": "code",
   "execution_count": null,
   "id": "express-harrison",
   "metadata": {
    "colab": {
     "base_uri": "https://localhost:8080/",
     "height": 652
    },
    "executionInfo": {
     "elapsed": 1114,
     "status": "ok",
     "timestamp": 1689453053563,
     "user": {
      "displayName": "Wade Smith",
      "userId": "10836431775502422548"
     },
     "user_tz": 240
    },
    "id": "express-harrison",
    "outputId": "3c44164e-852e-4cda-c916-a9fb7c1d09f8"
   },
   "outputs": [],
   "source": [
    "labeled_barplot(data, 'education_of_employee', \"Employee's Education\", perc = True)  ## Complete the code to create labeled_barplot for education of employee"
   ]
  },
  {
   "cell_type": "markdown",
   "id": "forbidden-kidney",
   "metadata": {
    "id": "forbidden-kidney"
   },
   "source": [
    "#### Observations on job experience"
   ]
  },
  {
   "cell_type": "code",
   "execution_count": null,
   "id": "exterior-rings",
   "metadata": {
    "colab": {
     "base_uri": "https://localhost:8080/",
     "height": 543
    },
    "executionInfo": {
     "elapsed": 746,
     "status": "ok",
     "timestamp": 1689453130970,
     "user": {
      "displayName": "Wade Smith",
      "userId": "10836431775502422548"
     },
     "user_tz": 240
    },
    "id": "exterior-rings",
    "outputId": "845b1b32-84fd-428e-b436-261586d7c6a9"
   },
   "outputs": [],
   "source": [
    "labeled_barplot(data, 'has_job_experience', \"Has Job Experience?\", perc = True)  ## Complete the code to create labeled_barplot for job experience"
   ]
  },
  {
   "cell_type": "markdown",
   "id": "amateur-above",
   "metadata": {
    "id": "amateur-above"
   },
   "source": [
    "#### Observations on job training"
   ]
  },
  {
   "cell_type": "code",
   "execution_count": null,
   "id": "serial-irrigation",
   "metadata": {
    "colab": {
     "base_uri": "https://localhost:8080/",
     "height": 543
    },
    "executionInfo": {
     "elapsed": 701,
     "status": "ok",
     "timestamp": 1689453148842,
     "user": {
      "displayName": "Wade Smith",
      "userId": "10836431775502422548"
     },
     "user_tz": 240
    },
    "id": "serial-irrigation",
    "outputId": "27d96c90-eb9d-4722-83ee-2bb8ac3cae47",
    "scrolled": false
   },
   "outputs": [],
   "source": [
    "labeled_barplot(data, 'requires_job_training', \"Requires Job Training?\", perc = True)  ## Complete the code to create labeled_barplot for job training"
   ]
  },
  {
   "cell_type": "markdown",
   "id": "attempted-burlington",
   "metadata": {
    "id": "attempted-burlington"
   },
   "source": [
    "#### Observations on region of employment"
   ]
  },
  {
   "cell_type": "code",
   "execution_count": null,
   "id": "suited-tuner",
   "metadata": {
    "colab": {
     "base_uri": "https://localhost:8080/",
     "height": 631
    },
    "executionInfo": {
     "elapsed": 1398,
     "status": "ok",
     "timestamp": 1689453649269,
     "user": {
      "displayName": "Wade Smith",
      "userId": "10836431775502422548"
     },
     "user_tz": 240
    },
    "id": "suited-tuner",
    "outputId": "99c230af-6acd-4b68-9077-b680a8965b64"
   },
   "outputs": [],
   "source": [
    "labeled_barplot(data, 'region_of_employment', \"Region of Employment\", perc = True)  ## Complete the code to create labeled_barplot for region of employment"
   ]
  },
  {
   "cell_type": "markdown",
   "id": "aging-curve",
   "metadata": {
    "id": "aging-curve"
   },
   "source": [
    "#### Observations on unit of wage"
   ]
  },
  {
   "cell_type": "code",
   "execution_count": null,
   "id": "modified-breed",
   "metadata": {
    "colab": {
     "base_uri": "https://localhost:8080/",
     "height": 593
    },
    "executionInfo": {
     "elapsed": 393,
     "status": "ok",
     "timestamp": 1689453658376,
     "user": {
      "displayName": "Wade Smith",
      "userId": "10836431775502422548"
     },
     "user_tz": 240
    },
    "id": "modified-breed",
    "outputId": "97d72c0c-06ee-4900-a049-6625b71ea9de"
   },
   "outputs": [],
   "source": [
    "labeled_barplot(data, 'unit_of_wage', \"Unit of Wage\", perc = True)  ## Complete the code to create labeled_barplot for unit of wage"
   ]
  },
  {
   "cell_type": "markdown",
   "id": "stunning-surrey",
   "metadata": {
    "id": "stunning-surrey"
   },
   "source": [
    "#### Observations on case status"
   ]
  },
  {
   "cell_type": "code",
   "execution_count": null,
   "id": "potential-stroke",
   "metadata": {
    "colab": {
     "base_uri": "https://localhost:8080/",
     "height": 617
    },
    "executionInfo": {
     "elapsed": 1116,
     "status": "ok",
     "timestamp": 1689453705340,
     "user": {
      "displayName": "Wade Smith",
      "userId": "10836431775502422548"
     },
     "user_tz": 240
    },
    "id": "potential-stroke",
    "outputId": "6fd674a1-b478-41e6-abac-0eba191db73c"
   },
   "outputs": [],
   "source": [
    "labeled_barplot(data, 'case_status', \"Application Decision\", perc = True)  ## Complete the code to create labeled_barplot for case status"
   ]
  },
  {
   "cell_type": "markdown",
   "id": "equivalent-aging",
   "metadata": {
    "id": "equivalent-aging"
   },
   "source": [
    "### Bivariate Analysis"
   ]
  },
  {
   "cell_type": "code",
   "execution_count": null,
   "id": "social-wagner",
   "metadata": {
    "colab": {
     "base_uri": "https://localhost:8080/",
     "height": 451
    },
    "executionInfo": {
     "elapsed": 680,
     "status": "ok",
     "timestamp": 1689454258900,
     "user": {
      "displayName": "Wade Smith",
      "userId": "10836431775502422548"
     },
     "user_tz": 240
    },
    "id": "social-wagner",
    "outputId": "ca5efd05-d743-42e9-8950-a985fd341a82"
   },
   "outputs": [],
   "source": [
    "cols_list = data.select_dtypes(include=np.number).columns.tolist()\n",
    "\n",
    "plt.figure(figsize=(10, 5))\n",
    "sns.heatmap(\n",
    "    data[cols_list].corr(), annot=True, vmin=-1, vmax=1, fmt=\".2f\", cmap=\"Spectral\"\n",
    ") ## Complete the code to find the correlation between the variables\n",
    "plt.show()"
   ]
  },
  {
   "cell_type": "markdown",
   "id": "blond-convertible",
   "metadata": {
    "id": "blond-convertible"
   },
   "source": [
    "**Creating functions that will help us with further analysis.**"
   ]
  },
  {
   "cell_type": "code",
   "execution_count": null,
   "id": "adaptive-recipient",
   "metadata": {
    "executionInfo": {
     "elapsed": 2,
     "status": "ok",
     "timestamp": 1689455592068,
     "user": {
      "displayName": "Wade Smith",
      "userId": "10836431775502422548"
     },
     "user_tz": 240
    },
    "id": "adaptive-recipient"
   },
   "outputs": [],
   "source": [
    "### function to plot distributions wrt target\n",
    "\n",
    "\n",
    "def distribution_plot_wrt_target(data, predictor, target, predictor_label = None, target_label = None):\n",
    "\n",
    "    fig, axs = plt.subplots(2, 2, figsize=(12, 10))\n",
    "\n",
    "    target_uniq = data[target].unique()\n",
    "\n",
    "    axs[0, 0].set_title(\"Distribution of target for target=\" + str(target_uniq[0]))\n",
    "    sns.histplot(\n",
    "        data=data[data[target] == target_uniq[0]],\n",
    "        x=predictor,\n",
    "        kde=True,\n",
    "        ax=axs[0, 0],\n",
    "        color=\"teal\",\n",
    "        stat=\"density\",\n",
    "    )\n",
    "\n",
    "\n",
    "\n",
    "    axs[0, 1].set_title(\"Distribution of target for target=\" + str(target_uniq[1]))\n",
    "    sns.histplot(\n",
    "        data=data[data[target] == target_uniq[1]],\n",
    "        x=predictor,\n",
    "        kde=True,\n",
    "        ax=axs[0, 1],\n",
    "        color=\"orange\",\n",
    "        stat=\"density\",\n",
    "    )\n",
    "\n",
    "\n",
    "\n",
    "    axs[1, 0].set_title(\"Boxplot w.r.t target\")\n",
    "    sns.boxplot(data=data, x=target, y=predictor, ax=axs[1, 0], palette=\"gist_rainbow\")\n",
    "\n",
    "\n",
    "    axs[1, 1].set_title(\"Boxplot (without outliers) w.r.t target\")\n",
    "    sns.boxplot(\n",
    "        data=data,\n",
    "        x=target,\n",
    "        y=predictor,\n",
    "        ax=axs[1, 1],\n",
    "        showfliers=False,\n",
    "        palette=\"gist_rainbow\",\n",
    "    )\n",
    "\n",
    "    if predictor_label:\n",
    "      axs[0,0].set_xlabel(predictor_label)\n",
    "      axs[0,1].set_xlabel(predictor_label)\n",
    "    else:\n",
    "      axs[0,0].set_xlabel(predictor)\n",
    "      axs[0,1].set_xlabel(predictor)\n",
    "\n",
    "    if target_label:\n",
    "      axs[1,0].set_xlabel(target_label)\n",
    "      axs[1,1].set_xlabel(target_label)\n",
    "    else:\n",
    "      axs[1,0].set_xlabel(target)\n",
    "      axs[1,1].set_xlabel(target)\n",
    "\n",
    "    plt.tight_layout()\n",
    "    plt.show()"
   ]
  },
  {
   "cell_type": "code",
   "execution_count": null,
   "id": "third-sheriff",
   "metadata": {
    "executionInfo": {
     "elapsed": 7,
     "status": "ok",
     "timestamp": 1689454980649,
     "user": {
      "displayName": "Wade Smith",
      "userId": "10836431775502422548"
     },
     "user_tz": 240
    },
    "id": "third-sheriff"
   },
   "outputs": [],
   "source": [
    "def stacked_barplot(data, predictor, target, xlabel = None):\n",
    "    \"\"\"\n",
    "    Print the category counts and plot a stacked bar chart\n",
    "\n",
    "    data: dataframe\n",
    "    predictor: independent variable\n",
    "    target: target variable\n",
    "    \"\"\"\n",
    "    count = data[predictor].nunique()\n",
    "    sorter = data[target].value_counts().index[-1]\n",
    "    tab1 = pd.crosstab(data[predictor], data[target], margins=True).sort_values(\n",
    "        by=sorter, ascending=False\n",
    "    )\n",
    "    print(tab1)\n",
    "    print(\"-\" * 120)\n",
    "    tab = pd.crosstab(data[predictor], data[target], normalize=\"index\").sort_values(\n",
    "        by=sorter, ascending=False\n",
    "    )\n",
    "    tab.plot(kind=\"bar\", stacked=True, figsize=(count + 5, 5))\n",
    "    plt.legend(\n",
    "        loc=\"lower left\", frameon=False,\n",
    "    )\n",
    "\n",
    "    plt.legend(loc=\"upper left\", bbox_to_anchor=(1, 1))\n",
    "\n",
    "    if xlabel:\n",
    "      plt.xlabel(xlabel)\n",
    "    else:\n",
    "      plt.xlabel(predictor)\n",
    "\n",
    "    plt.show()"
   ]
  },
  {
   "cell_type": "markdown",
   "id": "dressed-excuse",
   "metadata": {
    "id": "dressed-excuse"
   },
   "source": [
    "#### Those with higher education may want to travel abroad for a well-paid job. Let's find out if education has any impact on visa certification"
   ]
  },
  {
   "cell_type": "code",
   "execution_count": null,
   "id": "special-florist",
   "metadata": {
    "colab": {
     "base_uri": "https://localhost:8080/",
     "height": 672
    },
    "executionInfo": {
     "elapsed": 595,
     "status": "ok",
     "timestamp": 1689454991571,
     "user": {
      "displayName": "Wade Smith",
      "userId": "10836431775502422548"
     },
     "user_tz": 240
    },
    "id": "special-florist",
    "outputId": "ae07f447-8f19-4b01-8718-494288c968b6"
   },
   "outputs": [],
   "source": [
    "stacked_barplot(data, \"education_of_employee\", \"case_status\", \"Employee's Education\")"
   ]
  },
  {
   "cell_type": "markdown",
   "id": "wound-communication",
   "metadata": {
    "id": "wound-communication"
   },
   "source": [
    "#### Different regions have different requirements of talent having diverse educational backgrounds. Let's analyze it further"
   ]
  },
  {
   "cell_type": "code",
   "execution_count": null,
   "id": "tamil-intelligence",
   "metadata": {
    "colab": {
     "base_uri": "https://localhost:8080/",
     "height": 465
    },
    "executionInfo": {
     "elapsed": 659,
     "status": "ok",
     "timestamp": 1689455044903,
     "user": {
      "displayName": "Wade Smith",
      "userId": "10836431775502422548"
     },
     "user_tz": 240
    },
    "id": "tamil-intelligence",
    "outputId": "8241a6b3-c639-41cd-d65e-2fa4bd3f8a42"
   },
   "outputs": [],
   "source": [
    "plt.figure(figsize=(10, 5))\n",
    "sns.heatmap(pd.crosstab(data['education_of_employee'], data['region_of_employment']),\n",
    "    annot=True,\n",
    "    fmt=\"g\",\n",
    "    cmap=\"viridis\"\n",
    ") ## Complete the code to plot heatmap for the crosstab between education and region of employment\n",
    "\n",
    "plt.ylabel(\"Education\")\n",
    "plt.xlabel(\"Region\")\n",
    "plt.show()"
   ]
  },
  {
   "cell_type": "markdown",
   "id": "theoretical-flexibility",
   "metadata": {
    "id": "theoretical-flexibility"
   },
   "source": [
    "#### Let's have a look at the percentage of visa certifications across each region"
   ]
  },
  {
   "cell_type": "code",
   "execution_count": null,
   "id": "hybrid-zealand",
   "metadata": {
    "colab": {
     "base_uri": "https://localhost:8080/",
     "height": 675
    },
    "executionInfo": {
     "elapsed": 734,
     "status": "ok",
     "timestamp": 1689455042101,
     "user": {
      "displayName": "Wade Smith",
      "userId": "10836431775502422548"
     },
     "user_tz": 240
    },
    "id": "hybrid-zealand",
    "outputId": "c5734f66-9063-42bf-e6aa-b3afacd085d4"
   },
   "outputs": [],
   "source": [
    "stacked_barplot(data, 'region_of_employment', 'case_status', \"Region of Employment\") ## Complete the code to plot stacked barplot for region of employment and case status"
   ]
  },
  {
   "cell_type": "markdown",
   "id": "attended-current",
   "metadata": {
    "id": "attended-current"
   },
   "source": [
    "#### Lets' similarly check for the continents and find out how the visa status vary across different continents."
   ]
  },
  {
   "cell_type": "code",
   "execution_count": null,
   "id": "alive-bloom",
   "metadata": {
    "colab": {
     "base_uri": "https://localhost:8080/",
     "height": 727
    },
    "executionInfo": {
     "elapsed": 1597,
     "status": "ok",
     "timestamp": 1689455059038,
     "user": {
      "displayName": "Wade Smith",
      "userId": "10836431775502422548"
     },
     "user_tz": 240
    },
    "id": "alive-bloom",
    "outputId": "aa4aa438-75e7-4fb5-9173-e6ae03ff2b63"
   },
   "outputs": [],
   "source": [
    "stacked_barplot(data, 'continent', 'case_status', \"Continent\") ## Complete the code to plot stacked barplot for continent and case status"
   ]
  },
  {
   "cell_type": "markdown",
   "id": "macro-decrease",
   "metadata": {
    "id": "macro-decrease"
   },
   "source": [
    "#### Experienced professionals might look abroad for opportunities to improve their lifestyles and career development. Let's see if having work experience has any influence over visa certification"
   ]
  },
  {
   "cell_type": "code",
   "execution_count": null,
   "id": "divine-dimension",
   "metadata": {
    "colab": {
     "base_uri": "https://localhost:8080/",
     "height": 565
    },
    "executionInfo": {
     "elapsed": 165,
     "status": "ok",
     "timestamp": 1689455068995,
     "user": {
      "displayName": "Wade Smith",
      "userId": "10836431775502422548"
     },
     "user_tz": 240
    },
    "id": "divine-dimension",
    "outputId": "29550f8b-2325-431a-d06d-c87d0e21aeee"
   },
   "outputs": [],
   "source": [
    "stacked_barplot(data, 'has_job_experience', 'case_status', \"Has Job Experience?\") ## Complete the code to plot stacked barplot for job experience and case status"
   ]
  },
  {
   "cell_type": "markdown",
   "id": "binding-charger",
   "metadata": {
    "id": "binding-charger"
   },
   "source": [
    "#### Do the employees who have prior work experience require any job training?"
   ]
  },
  {
   "cell_type": "code",
   "execution_count": null,
   "id": "temporal-dairy",
   "metadata": {
    "colab": {
     "base_uri": "https://localhost:8080/",
     "height": 565
    },
    "executionInfo": {
     "elapsed": 604,
     "status": "ok",
     "timestamp": 1689455086657,
     "user": {
      "displayName": "Wade Smith",
      "userId": "10836431775502422548"
     },
     "user_tz": 240
    },
    "id": "temporal-dairy",
    "outputId": "1c312d94-8c0b-44a0-ddbb-ea4b9db362c7"
   },
   "outputs": [],
   "source": [
    "stacked_barplot(data, 'has_job_experience', 'requires_job_training', \"Has Job Experience?\") ## Complete the code to plot stacked barplot for job experience and requires_job_training"
   ]
  },
  {
   "cell_type": "markdown",
   "id": "lesser-bacteria",
   "metadata": {
    "id": "lesser-bacteria"
   },
   "source": [
    "#### The US government has established a prevailing wage to protect local talent and foreign workers. Let's analyze the data and see if the visa status changes with the prevailing wage"
   ]
  },
  {
   "cell_type": "code",
   "execution_count": null,
   "id": "perfect-haiti",
   "metadata": {
    "colab": {
     "base_uri": "https://localhost:8080/",
     "height": 986
    },
    "executionInfo": {
     "elapsed": 2004,
     "status": "ok",
     "timestamp": 1689455603903,
     "user": {
      "displayName": "Wade Smith",
      "userId": "10836431775502422548"
     },
     "user_tz": 240
    },
    "id": "perfect-haiti",
    "outputId": "8323b795-d345-420f-ef6d-e12fd501a280"
   },
   "outputs": [],
   "source": [
    "distribution_plot_wrt_target(data, 'prevailing_wage', 'case_status', \"Prevailing Wage\", \"Case Status\") ## Complete the code to find distribution of prevailing wage and case status"
   ]
  },
  {
   "cell_type": "markdown",
   "id": "changing-kansas",
   "metadata": {
    "id": "changing-kansas"
   },
   "source": [
    "#### Checking if the prevailing wage is similar across all the regions of the US"
   ]
  },
  {
   "cell_type": "code",
   "execution_count": null,
   "id": "dangerous-pride",
   "metadata": {
    "colab": {
     "base_uri": "https://localhost:8080/",
     "height": 465
    },
    "executionInfo": {
     "elapsed": 1183,
     "status": "ok",
     "timestamp": 1689455681711,
     "user": {
      "displayName": "Wade Smith",
      "userId": "10836431775502422548"
     },
     "user_tz": 240
    },
    "id": "dangerous-pride",
    "outputId": "1bab90c7-400d-4a07-963a-8198c7cd40c0"
   },
   "outputs": [],
   "source": [
    "plt.figure(figsize=(10, 5))\n",
    "sns.boxplot(data, x = 'region_of_employment', y = 'prevailing_wage') ## Complete the code to create boxplot for region of employment and prevailing wage\n",
    "plt.xlabel(\"Region of Employment\")\n",
    "plt.ylabel(\"Prevailing Wage\")\n",
    "plt.show()"
   ]
  },
  {
   "cell_type": "markdown",
   "id": "suspected-asthma",
   "metadata": {
    "id": "suspected-asthma"
   },
   "source": [
    "#### The prevailing wage has different units (Hourly, Weekly, etc). Let's find out if it has any impact on visa applications getting certified."
   ]
  },
  {
   "cell_type": "code",
   "execution_count": null,
   "id": "impossible-aquatic",
   "metadata": {
    "colab": {
     "base_uri": "https://localhost:8080/",
     "height": 633
    },
    "executionInfo": {
     "elapsed": 605,
     "status": "ok",
     "timestamp": 1689455717834,
     "user": {
      "displayName": "Wade Smith",
      "userId": "10836431775502422548"
     },
     "user_tz": 240
    },
    "id": "impossible-aquatic",
    "outputId": "de40bbe9-7e55-4179-c7c2-9dad05ae7584"
   },
   "outputs": [],
   "source": [
    "stacked_barplot(data, 'unit_of_wage', 'case_status', \"Unit of Wage\") ## Complete the code to plot stacked barplot for unit of wage and case status"
   ]
  },
  {
   "cell_type": "markdown",
   "id": "icaAgO2siAcs",
   "metadata": {
    "id": "icaAgO2siAcs"
   },
   "source": [
    "## Data Preprocessing"
   ]
  },
  {
   "cell_type": "markdown",
   "id": "allied-association",
   "metadata": {
    "id": "allied-association"
   },
   "source": [
    "### Outlier Check\n",
    "\n",
    "- Let's check for outliers in the data."
   ]
  },
  {
   "cell_type": "code",
   "execution_count": null,
   "id": "certified-complaint",
   "metadata": {
    "colab": {
     "base_uri": "https://localhost:8080/",
     "height": 347
    },
    "executionInfo": {
     "elapsed": 1138,
     "status": "ok",
     "timestamp": 1689194990445,
     "user": {
      "displayName": "Wade Smith",
      "userId": "10836431775502422548"
     },
     "user_tz": 240
    },
    "id": "certified-complaint",
    "outputId": "98055f0b-7b18-49c7-a0ed-cf216f3597e9"
   },
   "outputs": [],
   "source": [
    "# outlier detection using boxplot\n",
    "numeric_columns = data.select_dtypes(include=np.number).columns.tolist()\n",
    "\n",
    "\n",
    "plt.figure(figsize=(15, 12))\n",
    "\n",
    "for i, variable in enumerate(numeric_columns):\n",
    "    plt.subplot(3, 3, i+1)\n",
    "    sns.boxplot(data[variable])\n",
    "    plt.title(variable)\n",
    "\n",
    "plt.tight_layout() ## Complete the code to create boxplots for all the numeric columns\n",
    "plt.show()"
   ]
  },
  {
   "cell_type": "markdown",
   "id": "flexible-independence",
   "metadata": {
    "id": "flexible-independence"
   },
   "source": [
    "### Data Preparation for modeling\n",
    "\n",
    "- We want to predict which visa will be certified.\n",
    "- Before we proceed to build a model, we'll have to encode categorical features.\n",
    "- We'll split the data into train and test to be able to evaluate the model that we build on the train data."
   ]
  },
  {
   "cell_type": "code",
   "execution_count": null,
   "id": "genuine-evening",
   "metadata": {
    "executionInfo": {
     "elapsed": 14,
     "status": "ok",
     "timestamp": 1689194990446,
     "user": {
      "displayName": "Wade Smith",
      "userId": "10836431775502422548"
     },
     "user_tz": 240
    },
    "id": "genuine-evening"
   },
   "outputs": [],
   "source": [
    "data[\"case_status\"] = data[\"case_status\"].apply(lambda x: 1 if x == \"Certified\" else 0)\n",
    "\n",
    "X = data.drop(['case_status'], axis = 1) ## Complete the code to drop case status from the data\n",
    "Y = data[\"case_status\"]\n",
    "\n",
    "\n",
    "X = pd.get_dummies(X, drop_first = True)  ## Complete the code to create dummies for X\n",
    "\n",
    "# Splitting data in train and test sets\n",
    "X_train, X_test, y_train, y_test = train_test_split(X, Y, test_size = 0.3, random_state=1, stratify=Y) ## Complete the code to split the data into train and test in the ratio 70:30"
   ]
  },
  {
   "cell_type": "code",
   "execution_count": null,
   "id": "w_YluPOj468e",
   "metadata": {
    "colab": {
     "base_uri": "https://localhost:8080/",
     "height": 288
    },
    "executionInfo": {
     "elapsed": 13,
     "status": "ok",
     "timestamp": 1689194990446,
     "user": {
      "displayName": "Wade Smith",
      "userId": "10836431775502422548"
     },
     "user_tz": 240
    },
    "id": "w_YluPOj468e",
    "outputId": "a1be114e-2351-4222-b91f-ac364aba308f"
   },
   "outputs": [],
   "source": [
    "X.head()"
   ]
  },
  {
   "cell_type": "code",
   "execution_count": null,
   "id": "empty-typing",
   "metadata": {
    "colab": {
     "base_uri": "https://localhost:8080/"
    },
    "executionInfo": {
     "elapsed": 12,
     "status": "ok",
     "timestamp": 1689194990447,
     "user": {
      "displayName": "Wade Smith",
      "userId": "10836431775502422548"
     },
     "user_tz": 240
    },
    "id": "empty-typing",
    "outputId": "8c138d5c-c012-45ed-ef55-6c86e1911a30"
   },
   "outputs": [],
   "source": [
    "print(\"Shape of Training set : \", X_train.shape)\n",
    "print(\"Shape of test set : \", X_test.shape)\n",
    "print(\"Percentage of classes in training set:\")\n",
    "print(y_train.value_counts(normalize=True))\n",
    "print(\"Percentage of classes in test set:\")\n",
    "print(y_test.value_counts(normalize=True))"
   ]
  },
  {
   "cell_type": "markdown",
   "id": "teKIRZIDdzpK",
   "metadata": {
    "id": "teKIRZIDdzpK"
   },
   "source": [
    "## Model evaluation criterion"
   ]
  },
  {
   "cell_type": "markdown",
   "id": "71450807",
   "metadata": {
    "id": "71450807"
   },
   "source": [
    "### Model can make wrong predictions as:\n",
    "\n",
    "1. Model predicts that the visa application will get certified but in reality, the visa application should get denied.\n",
    "2. Model predicts that the visa application will not get certified but in reality, the visa application should get certified.\n",
    "\n",
    "### Which case is more important?\n",
    "* Both the cases are important as:\n",
    "\n",
    "* If a visa is certified when it had to be denied a wrong employee will get the job position while US citizens will miss the opportunity to work on that position.\n",
    "\n",
    "* If a visa is denied when it had to be certified the U.S. will lose a suitable human resource that can contribute to the economy.\n",
    "\n",
    "\n",
    "\n",
    "### How to reduce the losses?\n",
    "\n",
    "* `F1 Score` can be used a the metric for evaluation of the model, greater the F1  score higher are the chances of minimizing False Negatives and False Positives.\n",
    "* We will use balanced class weights so that model focuses equally on both classes."
   ]
  },
  {
   "cell_type": "markdown",
   "id": "capital-charlotte",
   "metadata": {
    "id": "capital-charlotte"
   },
   "source": [
    "**First, let's create functions to calculate different metrics and confusion matrix so that we don't have to use the same code repeatedly for each model.**\n",
    "* The model_performance_classification_sklearn function will be used to check the model performance of models.\n",
    "* The confusion_matrix_sklearn function will be used to plot the confusion matrix."
   ]
  },
  {
   "cell_type": "code",
   "execution_count": null,
   "id": "mexican-database",
   "metadata": {
    "executionInfo": {
     "elapsed": 11,
     "status": "ok",
     "timestamp": 1689194990448,
     "user": {
      "displayName": "Wade Smith",
      "userId": "10836431775502422548"
     },
     "user_tz": 240
    },
    "id": "mexican-database"
   },
   "outputs": [],
   "source": [
    "# defining a function to compute different metrics to check performance of a classification model built using sklearn\n",
    "\n",
    "\n",
    "def model_performance_classification_sklearn(model, predictors, target):\n",
    "    \"\"\"\n",
    "    Function to compute different metrics to check classification model performance\n",
    "\n",
    "    model: classifier\n",
    "    predictors: independent variables\n",
    "    target: dependent variable\n",
    "    \"\"\"\n",
    "\n",
    "    # predicting using the independent variables\n",
    "    pred = model.predict(predictors)\n",
    "\n",
    "    acc = accuracy_score(target, pred)  # to compute Accuracy\n",
    "    recall = recall_score(target, pred)  # to compute Recall\n",
    "    precision = precision_score(target, pred)  # to compute Precision\n",
    "    f1 = f1_score(target, pred)  # to compute F1-score\n",
    "\n",
    "    # creating a dataframe of metrics\n",
    "    df_perf = pd.DataFrame(\n",
    "        {\"Accuracy\": acc, \"Recall\": recall, \"Precision\": precision, \"F1\": f1,},\n",
    "        index=[0],\n",
    "    )\n",
    "\n",
    "    return df_perf"
   ]
  },
  {
   "cell_type": "code",
   "execution_count": null,
   "id": "recreational-topic",
   "metadata": {
    "executionInfo": {
     "elapsed": 12,
     "status": "ok",
     "timestamp": 1689194990449,
     "user": {
      "displayName": "Wade Smith",
      "userId": "10836431775502422548"
     },
     "user_tz": 240
    },
    "id": "recreational-topic"
   },
   "outputs": [],
   "source": [
    "def confusion_matrix_sklearn(model, predictors, target):\n",
    "    \"\"\"\n",
    "    To plot the confusion_matrix with percentages\n",
    "\n",
    "    model: classifier\n",
    "    predictors: independent variables\n",
    "    target: dependent variable\n",
    "    \"\"\"\n",
    "    y_pred = model.predict(predictors)\n",
    "    cm = confusion_matrix(target, y_pred)\n",
    "    labels = np.asarray(\n",
    "        [\n",
    "            [\"{0:0.0f}\".format(item) + \"\\n{0:.2%}\".format(item / cm.flatten().sum())]\n",
    "            for item in cm.flatten()\n",
    "        ]\n",
    "    ).reshape(2, 2)\n",
    "\n",
    "    plt.figure(figsize=(6, 4))\n",
    "    sns.heatmap(cm, annot=labels, fmt=\"\")\n",
    "    plt.ylabel(\"True label\")\n",
    "    plt.xlabel(\"Predicted label\")"
   ]
  },
  {
   "cell_type": "markdown",
   "id": "ICezcLI4iL0a",
   "metadata": {
    "id": "ICezcLI4iL0a"
   },
   "source": [
    "## Decision Tree - Model Building and Hyperparameter Tuning"
   ]
  },
  {
   "cell_type": "markdown",
   "id": "blank-ballet",
   "metadata": {
    "id": "blank-ballet"
   },
   "source": [
    "### Decision Tree Model"
   ]
  },
  {
   "cell_type": "code",
   "execution_count": null,
   "id": "hourly-hormone",
   "metadata": {
    "colab": {
     "base_uri": "https://localhost:8080/",
     "height": 75
    },
    "executionInfo": {
     "elapsed": 291,
     "status": "ok",
     "timestamp": 1689194990729,
     "user": {
      "displayName": "Wade Smith",
      "userId": "10836431775502422548"
     },
     "user_tz": 240
    },
    "id": "hourly-hormone",
    "outputId": "85eca4a7-7902-4fb8-e82a-85832252b18e"
   },
   "outputs": [],
   "source": [
    "model = DecisionTreeClassifier(random_state = 1) ## Complete the code to define decision tree classifier with random state = 1\n",
    "model.fit(X_train,y_train) ## Complete the code to fit decision tree classifier on the train data"
   ]
  },
  {
   "cell_type": "markdown",
   "id": "increasing-diversity",
   "metadata": {
    "id": "increasing-diversity"
   },
   "source": [
    "#### Checking model performance on training set"
   ]
  },
  {
   "cell_type": "code",
   "execution_count": null,
   "id": "irish-noise",
   "metadata": {
    "colab": {
     "base_uri": "https://localhost:8080/",
     "height": 388
    },
    "executionInfo": {
     "elapsed": 278,
     "status": "ok",
     "timestamp": 1689194991002,
     "user": {
      "displayName": "Wade Smith",
      "userId": "10836431775502422548"
     },
     "user_tz": 240
    },
    "id": "irish-noise",
    "outputId": "67b302e6-b075-4e3a-d7ee-40bfe0b7f4f0"
   },
   "outputs": [],
   "source": [
    "confusion_matrix_sklearn(model, X_train, y_train) ## Complete the code to create confusion matrix for train data"
   ]
  },
  {
   "cell_type": "code",
   "execution_count": null,
   "id": "multiple-union",
   "metadata": {
    "colab": {
     "base_uri": "https://localhost:8080/",
     "height": 81
    },
    "executionInfo": {
     "elapsed": 11,
     "status": "ok",
     "timestamp": 1689194991003,
     "user": {
      "displayName": "Wade Smith",
      "userId": "10836431775502422548"
     },
     "user_tz": 240
    },
    "id": "multiple-union",
    "outputId": "240bb501-fc1f-4c23-de6d-a1084e2b0db4"
   },
   "outputs": [],
   "source": [
    "decision_tree_perf_train = model_performance_classification_sklearn(model, X_train, y_train) ## Complete the code to check performance on train data\n",
    "decision_tree_perf_train"
   ]
  },
  {
   "cell_type": "markdown",
   "id": "material-reduction",
   "metadata": {
    "id": "material-reduction"
   },
   "source": [
    "#### Checking model performance on test set"
   ]
  },
  {
   "cell_type": "code",
   "execution_count": null,
   "id": "touched-survey",
   "metadata": {
    "colab": {
     "base_uri": "https://localhost:8080/",
     "height": 388
    },
    "executionInfo": {
     "elapsed": 614,
     "status": "ok",
     "timestamp": 1689194991608,
     "user": {
      "displayName": "Wade Smith",
      "userId": "10836431775502422548"
     },
     "user_tz": 240
    },
    "id": "touched-survey",
    "outputId": "59a2c295-93cd-44d5-d43d-6a5d185f045b"
   },
   "outputs": [],
   "source": [
    "confusion_matrix_sklearn(model, X_test, y_test) ## Complete the code to create confusion matrix for test data"
   ]
  },
  {
   "cell_type": "code",
   "execution_count": null,
   "id": "perceived-memorial",
   "metadata": {
    "colab": {
     "base_uri": "https://localhost:8080/",
     "height": 81
    },
    "executionInfo": {
     "elapsed": 10,
     "status": "ok",
     "timestamp": 1689194991609,
     "user": {
      "displayName": "Wade Smith",
      "userId": "10836431775502422548"
     },
     "user_tz": 240
    },
    "id": "perceived-memorial",
    "outputId": "2904e833-346f-4ff1-c7ad-a22312f592ab"
   },
   "outputs": [],
   "source": [
    "decision_tree_perf_test = model_performance_classification_sklearn(model, X_test, y_test) ## Complete the code to check performance for test data\n",
    "decision_tree_perf_test"
   ]
  },
  {
   "cell_type": "markdown",
   "id": "protected-romantic",
   "metadata": {
    "id": "protected-romantic"
   },
   "source": [
    "### Hyperparameter Tuning - Decision Tree"
   ]
  },
  {
   "cell_type": "code",
   "execution_count": null,
   "id": "tested-building",
   "metadata": {
    "colab": {
     "base_uri": "https://localhost:8080/",
     "height": 109
    },
    "executionInfo": {
     "elapsed": 6312,
     "status": "ok",
     "timestamp": 1689194997913,
     "user": {
      "displayName": "Wade Smith",
      "userId": "10836431775502422548"
     },
     "user_tz": 240
    },
    "id": "tested-building",
    "outputId": "4349dfdd-0cee-4097-b20a-34ebeb36a18e"
   },
   "outputs": [],
   "source": [
    "# Choose the type of classifier.\n",
    "dtree_estimator = DecisionTreeClassifier(class_weight=\"balanced\", random_state=1)\n",
    "\n",
    "# Grid of parameters to choose from\n",
    "parameters = {\n",
    "    \"max_depth\": np.arange(5, 16, 5),\n",
    "    \"min_samples_leaf\": [3, 5, 7],\n",
    "    \"max_leaf_nodes\": [2, 5],\n",
    "    \"min_impurity_decrease\": [0.0001, 0.001],\n",
    "}\n",
    "\n",
    "# Type of scoring used to compare parameter combinations\n",
    "scorer = metrics.make_scorer(metrics.f1_score)\n",
    "\n",
    "# Run the grid search\n",
    "grid_obj = GridSearchCV(dtree_estimator, parameters, scoring = scorer, n_jobs = -1) ## Complete the code to run grid search with n_jobs = -1\n",
    "\n",
    "grid_obj = grid_obj.fit(X_train, y_train) ## Complete the code to fit the grid_obj on the train data\n",
    "\n",
    "# Set the clf to the best combination of parameters\n",
    "dtree_estimator = grid_obj.best_estimator_\n",
    "\n",
    "# Fit the best algorithm to the data.\n",
    "dtree_estimator.fit(X_train, y_train)"
   ]
  },
  {
   "cell_type": "code",
   "execution_count": null,
   "id": "affected-thailand",
   "metadata": {
    "colab": {
     "base_uri": "https://localhost:8080/",
     "height": 388
    },
    "executionInfo": {
     "elapsed": 441,
     "status": "ok",
     "timestamp": 1689194998347,
     "user": {
      "displayName": "Wade Smith",
      "userId": "10836431775502422548"
     },
     "user_tz": 240
    },
    "id": "affected-thailand",
    "outputId": "db29a7c1-2fd8-484a-bba1-0dad5f34e327"
   },
   "outputs": [],
   "source": [
    "confusion_matrix_sklearn(dtree_estimator, X_train, y_train) ## Complete the code to create confusion matrix for train data on tuned estimator"
   ]
  },
  {
   "cell_type": "code",
   "execution_count": null,
   "id": "enormous-hunger",
   "metadata": {
    "colab": {
     "base_uri": "https://localhost:8080/",
     "height": 81
    },
    "executionInfo": {
     "elapsed": 33,
     "status": "ok",
     "timestamp": 1689194998350,
     "user": {
      "displayName": "Wade Smith",
      "userId": "10836431775502422548"
     },
     "user_tz": 240
    },
    "id": "enormous-hunger",
    "outputId": "2987b116-7949-4aa4-b097-85893401b8f9"
   },
   "outputs": [],
   "source": [
    "dtree_estimator_model_train_perf = model_performance_classification_sklearn(dtree_estimator, X_train, y_train) ## Complete the code to check performance for train data on tuned estimator\n",
    "dtree_estimator_model_train_perf"
   ]
  },
  {
   "cell_type": "code",
   "execution_count": null,
   "id": "stone-maker",
   "metadata": {
    "colab": {
     "base_uri": "https://localhost:8080/",
     "height": 388
    },
    "executionInfo": {
     "elapsed": 295,
     "status": "ok",
     "timestamp": 1689194998613,
     "user": {
      "displayName": "Wade Smith",
      "userId": "10836431775502422548"
     },
     "user_tz": 240
    },
    "id": "stone-maker",
    "outputId": "8809181c-11b8-48dd-bede-65bf6b6d15f6"
   },
   "outputs": [],
   "source": [
    "confusion_matrix_sklearn(dtree_estimator, X_test, y_test) ## Complete the code to create confusion matrix for test data on tuned estimator"
   ]
  },
  {
   "cell_type": "code",
   "execution_count": null,
   "id": "together-pittsburgh",
   "metadata": {
    "colab": {
     "base_uri": "https://localhost:8080/",
     "height": 81
    },
    "executionInfo": {
     "elapsed": 13,
     "status": "ok",
     "timestamp": 1689194998614,
     "user": {
      "displayName": "Wade Smith",
      "userId": "10836431775502422548"
     },
     "user_tz": 240
    },
    "id": "together-pittsburgh",
    "outputId": "d0933380-78f2-47f5-f52b-e2788fba3f04"
   },
   "outputs": [],
   "source": [
    "dtree_estimator_model_test_perf = model_performance_classification_sklearn(dtree_estimator, X_test, y_test) ## Complete the code to check performance for test data on tuned estimator\n",
    "dtree_estimator_model_test_perf"
   ]
  },
  {
   "cell_type": "markdown",
   "id": "FnQnoNOCiSwl",
   "metadata": {
    "id": "FnQnoNOCiSwl"
   },
   "source": [
    "## Bagging - Model Building and Hyperparameter Tuning"
   ]
  },
  {
   "cell_type": "markdown",
   "id": "aging-corruption",
   "metadata": {
    "id": "aging-corruption"
   },
   "source": [
    "### Bagging Classifier"
   ]
  },
  {
   "cell_type": "code",
   "execution_count": null,
   "id": "postal-angle",
   "metadata": {
    "colab": {
     "base_uri": "https://localhost:8080/",
     "height": 75
    },
    "executionInfo": {
     "elapsed": 831,
     "status": "ok",
     "timestamp": 1689194999435,
     "user": {
      "displayName": "Wade Smith",
      "userId": "10836431775502422548"
     },
     "user_tz": 240
    },
    "id": "postal-angle",
    "outputId": "46fe350e-42b3-4e72-9460-0bc8e36425c2"
   },
   "outputs": [],
   "source": [
    "bagging_classifier = BaggingClassifier(random_state = 1) ## Complete the code to define bagging classifier with random state = 1\n",
    "bagging_classifier.fit(X_train, y_train) ## Complete the code to fit bagging classifier on the train data"
   ]
  },
  {
   "cell_type": "markdown",
   "id": "suffering-growing",
   "metadata": {
    "id": "suffering-growing"
   },
   "source": [
    "#### Checking model performance on training set"
   ]
  },
  {
   "cell_type": "code",
   "execution_count": null,
   "id": "extraordinary-festival",
   "metadata": {
    "colab": {
     "base_uri": "https://localhost:8080/",
     "height": 388
    },
    "executionInfo": {
     "elapsed": 738,
     "status": "ok",
     "timestamp": 1689195000163,
     "user": {
      "displayName": "Wade Smith",
      "userId": "10836431775502422548"
     },
     "user_tz": 240
    },
    "id": "extraordinary-festival",
    "outputId": "9a6dccbe-fe9f-4502-932c-133ad949d8e2"
   },
   "outputs": [],
   "source": [
    "confusion_matrix_sklearn(bagging_classifier, X_train, y_train) ## Complete the code to create confusion matrix for train data"
   ]
  },
  {
   "cell_type": "code",
   "execution_count": null,
   "id": "further-yemen",
   "metadata": {
    "colab": {
     "base_uri": "https://localhost:8080/",
     "height": 81
    },
    "executionInfo": {
     "elapsed": 10,
     "status": "ok",
     "timestamp": 1689195000163,
     "user": {
      "displayName": "Wade Smith",
      "userId": "10836431775502422548"
     },
     "user_tz": 240
    },
    "id": "further-yemen",
    "outputId": "d6891009-bb9e-47e1-8a2e-194815e0b73a"
   },
   "outputs": [],
   "source": [
    "bagging_classifier_model_train_perf = model_performance_classification_sklearn(bagging_classifier, X_train, y_train) ## Complete the code to check performance on train data\n",
    "bagging_classifier_model_train_perf"
   ]
  },
  {
   "cell_type": "markdown",
   "id": "verified-obligation",
   "metadata": {
    "id": "verified-obligation"
   },
   "source": [
    "#### Checking model performance on test set"
   ]
  },
  {
   "cell_type": "code",
   "execution_count": null,
   "id": "weird-wesley",
   "metadata": {
    "colab": {
     "base_uri": "https://localhost:8080/",
     "height": 388
    },
    "executionInfo": {
     "elapsed": 401,
     "status": "ok",
     "timestamp": 1689195000556,
     "user": {
      "displayName": "Wade Smith",
      "userId": "10836431775502422548"
     },
     "user_tz": 240
    },
    "id": "weird-wesley",
    "outputId": "cd648db3-bd9a-4967-ee7b-5275d35a38c4"
   },
   "outputs": [],
   "source": [
    "confusion_matrix_sklearn(bagging_classifier, X_test, y_test) ## Complete the code to create confusion matrix for test data"
   ]
  },
  {
   "cell_type": "code",
   "execution_count": null,
   "id": "handy-nature",
   "metadata": {
    "colab": {
     "base_uri": "https://localhost:8080/",
     "height": 81
    },
    "executionInfo": {
     "elapsed": 21,
     "status": "ok",
     "timestamp": 1689195000557,
     "user": {
      "displayName": "Wade Smith",
      "userId": "10836431775502422548"
     },
     "user_tz": 240
    },
    "id": "handy-nature",
    "outputId": "a7a0f4a8-eb5a-47ca-d3ef-6c7e79324ff6"
   },
   "outputs": [],
   "source": [
    "bagging_classifier_model_test_perf = model_performance_classification_sklearn(bagging_classifier, X_test, y_test) ## Complete the code to check performance for test data\n",
    "bagging_classifier_model_test_perf"
   ]
  },
  {
   "cell_type": "markdown",
   "id": "increased-civilian",
   "metadata": {
    "id": "increased-civilian"
   },
   "source": [
    "### Hyperparameter Tuning - Bagging Classifier"
   ]
  },
  {
   "cell_type": "code",
   "execution_count": null,
   "id": "coastal-jefferson",
   "metadata": {
    "colab": {
     "base_uri": "https://localhost:8080/",
     "height": 92
    },
    "executionInfo": {
     "elapsed": 307333,
     "status": "ok",
     "timestamp": 1689195307871,
     "user": {
      "displayName": "Wade Smith",
      "userId": "10836431775502422548"
     },
     "user_tz": 240
    },
    "id": "coastal-jefferson",
    "outputId": "c53e8e82-890e-4bd1-f0d0-b6792d44e861"
   },
   "outputs": [],
   "source": [
    "# Choose the type of classifier.\n",
    "bagging_estimator_tuned = BaggingClassifier(random_state=1)\n",
    "\n",
    "# Grid of parameters to choose from\n",
    "parameters = {\n",
    "    \"max_samples\": [0.7, 0.9],\n",
    "    \"max_features\": [0.7, 0.9],\n",
    "    \"n_estimators\": np.arange(90, 111, 10),\n",
    "}\n",
    "\n",
    "# Type of scoring used to compare parameter combinations\n",
    "acc_scorer = metrics.make_scorer(metrics.f1_score)\n",
    "\n",
    "# Run the grid search\n",
    "grid_obj = GridSearchCV(bagging_estimator_tuned, parameters, scoring = acc_scorer, cv = 5) ## Complete the code to run grid search with cv = 5\n",
    "grid_obj = grid_obj.fit(X_train, y_train) ## Complete the code to fit the grid_obj on train data\n",
    "\n",
    "# Set the clf to the best combination of parameters\n",
    "bagging_estimator_tuned = grid_obj.best_estimator_\n",
    "\n",
    "# Fit the best algorithm to the data.\n",
    "bagging_estimator_tuned.fit(X_train, y_train)"
   ]
  },
  {
   "cell_type": "markdown",
   "id": "protecting-douglas",
   "metadata": {
    "id": "protecting-douglas"
   },
   "source": [
    "#### Checking model performance on training set"
   ]
  },
  {
   "cell_type": "code",
   "execution_count": null,
   "id": "nominated-overhead",
   "metadata": {
    "colab": {
     "base_uri": "https://localhost:8080/",
     "height": 388
    },
    "executionInfo": {
     "elapsed": 931,
     "status": "ok",
     "timestamp": 1689195308799,
     "user": {
      "displayName": "Wade Smith",
      "userId": "10836431775502422548"
     },
     "user_tz": 240
    },
    "id": "nominated-overhead",
    "outputId": "b6c818df-bba1-4305-fff4-71ff0af1ecaa"
   },
   "outputs": [],
   "source": [
    "confusion_matrix_sklearn(bagging_estimator_tuned, X_train, y_train) ## Complete the code to create confusion matrix for train data on tuned estimator"
   ]
  },
  {
   "cell_type": "code",
   "execution_count": null,
   "id": "fundamental-newport",
   "metadata": {
    "colab": {
     "base_uri": "https://localhost:8080/",
     "height": 81
    },
    "executionInfo": {
     "elapsed": 616,
     "status": "ok",
     "timestamp": 1689195309411,
     "user": {
      "displayName": "Wade Smith",
      "userId": "10836431775502422548"
     },
     "user_tz": 240
    },
    "id": "fundamental-newport",
    "outputId": "a7feaa27-d855-4f7e-b727-f8f92e51ec7f"
   },
   "outputs": [],
   "source": [
    "bagging_estimator_tuned_model_train_perf = model_performance_classification_sklearn(bagging_estimator_tuned, X_train, y_train) ## Complete the code to check performance for train data on tuned estimator\n",
    "bagging_estimator_tuned_model_train_perf"
   ]
  },
  {
   "cell_type": "markdown",
   "id": "elegant-bookmark",
   "metadata": {
    "id": "elegant-bookmark"
   },
   "source": [
    "#### Checking model performance on test set"
   ]
  },
  {
   "cell_type": "code",
   "execution_count": null,
   "id": "later-setup",
   "metadata": {
    "colab": {
     "base_uri": "https://localhost:8080/",
     "height": 388
    },
    "executionInfo": {
     "elapsed": 619,
     "status": "ok",
     "timestamp": 1689195310026,
     "user": {
      "displayName": "Wade Smith",
      "userId": "10836431775502422548"
     },
     "user_tz": 240
    },
    "id": "later-setup",
    "outputId": "50737b40-fb83-411c-b47a-204aa148fa5e"
   },
   "outputs": [],
   "source": [
    "confusion_matrix_sklearn(bagging_estimator_tuned, X_test, y_test) ## Complete the code to create confusion matrix for test data on tuned estimator"
   ]
  },
  {
   "cell_type": "code",
   "execution_count": null,
   "id": "discrete-immigration",
   "metadata": {
    "colab": {
     "base_uri": "https://localhost:8080/",
     "height": 81
    },
    "executionInfo": {
     "elapsed": 314,
     "status": "ok",
     "timestamp": 1689195310333,
     "user": {
      "displayName": "Wade Smith",
      "userId": "10836431775502422548"
     },
     "user_tz": 240
    },
    "id": "discrete-immigration",
    "outputId": "cc594d28-7508-4434-e12d-0a0d9e33f1b9"
   },
   "outputs": [],
   "source": [
    "bagging_estimator_tuned_model_test_perf = model_performance_classification_sklearn(bagging_estimator_tuned, X_test, y_test) ## Complete the code to check performance for test data on tuned estimator\n",
    "bagging_estimator_tuned_model_test_perf"
   ]
  },
  {
   "cell_type": "markdown",
   "id": "colonial-society",
   "metadata": {
    "id": "colonial-society"
   },
   "source": [
    "### Random Forest"
   ]
  },
  {
   "cell_type": "code",
   "execution_count": null,
   "id": "outer-array",
   "metadata": {
    "colab": {
     "base_uri": "https://localhost:8080/",
     "height": 75
    },
    "executionInfo": {
     "elapsed": 2976,
     "status": "ok",
     "timestamp": 1689195313305,
     "user": {
      "displayName": "Wade Smith",
      "userId": "10836431775502422548"
     },
     "user_tz": 240
    },
    "id": "outer-array",
    "outputId": "2518bc67-5c5f-4a11-dcb5-da235f2f9569"
   },
   "outputs": [],
   "source": [
    "# Fitting the model\n",
    "rf_estimator = RandomForestClassifier(random_state = 1, class_weight = 'balanced') ## Complete the code to define random forest with random state = 1 and class_weight = balanced\n",
    "rf_estimator.fit(X_train, y_train) ## Complete the code to fit random forest on the train data"
   ]
  },
  {
   "cell_type": "markdown",
   "id": "possible-vinyl",
   "metadata": {
    "id": "possible-vinyl"
   },
   "source": [
    "#### Checking model performance on training set"
   ]
  },
  {
   "cell_type": "code",
   "execution_count": null,
   "id": "nervous-ordering",
   "metadata": {
    "colab": {
     "base_uri": "https://localhost:8080/",
     "height": 388
    },
    "executionInfo": {
     "elapsed": 600,
     "status": "ok",
     "timestamp": 1689195313899,
     "user": {
      "displayName": "Wade Smith",
      "userId": "10836431775502422548"
     },
     "user_tz": 240
    },
    "id": "nervous-ordering",
    "outputId": "32096fb5-3998-46e4-9f0a-01a1588e252c"
   },
   "outputs": [],
   "source": [
    "confusion_matrix_sklearn(rf_estimator, X_train, y_train) ## Complete the code to create confusion matrix for train data"
   ]
  },
  {
   "cell_type": "code",
   "execution_count": null,
   "id": "functioning-nigeria",
   "metadata": {
    "colab": {
     "base_uri": "https://localhost:8080/",
     "height": 81
    },
    "executionInfo": {
     "elapsed": 538,
     "status": "ok",
     "timestamp": 1689195314433,
     "user": {
      "displayName": "Wade Smith",
      "userId": "10836431775502422548"
     },
     "user_tz": 240
    },
    "id": "functioning-nigeria",
    "outputId": "9d6bdd0a-8592-4081-d127-8d61aee2daa6"
   },
   "outputs": [],
   "source": [
    "# Calculating different metrics\n",
    "rf_estimator_model_train_perf = model_performance_classification_sklearn(rf_estimator, X_train, y_train) ## Complete the code to check performance on train data\n",
    "rf_estimator_model_train_perf"
   ]
  },
  {
   "cell_type": "markdown",
   "id": "theoretical-poverty",
   "metadata": {
    "id": "theoretical-poverty"
   },
   "source": [
    "#### Checking model performance on test set"
   ]
  },
  {
   "cell_type": "code",
   "execution_count": null,
   "id": "meaning-crash",
   "metadata": {
    "colab": {
     "base_uri": "https://localhost:8080/",
     "height": 388
    },
    "executionInfo": {
     "elapsed": 321,
     "status": "ok",
     "timestamp": 1689195314747,
     "user": {
      "displayName": "Wade Smith",
      "userId": "10836431775502422548"
     },
     "user_tz": 240
    },
    "id": "meaning-crash",
    "outputId": "99692d13-a7d6-404a-8dff-354610012688"
   },
   "outputs": [],
   "source": [
    "confusion_matrix_sklearn(rf_estimator, X_test, y_test) ## Complete the code to create confusion matrix for test data"
   ]
  },
  {
   "cell_type": "code",
   "execution_count": null,
   "id": "pending-light",
   "metadata": {
    "colab": {
     "base_uri": "https://localhost:8080/",
     "height": 81
    },
    "executionInfo": {
     "elapsed": 261,
     "status": "ok",
     "timestamp": 1689195315004,
     "user": {
      "displayName": "Wade Smith",
      "userId": "10836431775502422548"
     },
     "user_tz": 240
    },
    "id": "pending-light",
    "outputId": "ff133b1d-309b-44bf-a0da-08bd736b567b"
   },
   "outputs": [],
   "source": [
    "rf_estimator_model_test_perf = model_performance_classification_sklearn(rf_estimator, X_test, y_test) ## Complete the code to check performance for test data\n",
    "rf_estimator_model_test_perf"
   ]
  },
  {
   "cell_type": "markdown",
   "id": "beneficial-bosnia",
   "metadata": {
    "id": "beneficial-bosnia"
   },
   "source": [
    "### Hyperparameter Tuning - Random Forest"
   ]
  },
  {
   "cell_type": "code",
   "execution_count": null,
   "id": "interstate-jonathan",
   "metadata": {
    "colab": {
     "base_uri": "https://localhost:8080/",
     "height": 92
    },
    "executionInfo": {
     "elapsed": 26973,
     "status": "ok",
     "timestamp": 1689195341972,
     "user": {
      "displayName": "Wade Smith",
      "userId": "10836431775502422548"
     },
     "user_tz": 240
    },
    "id": "interstate-jonathan",
    "outputId": "ed873245-c121-4548-ae90-6ef45bc554dc"
   },
   "outputs": [],
   "source": [
    "# Choose the type of classifier.\n",
    "rf_tuned = RandomForestClassifier(random_state=1, oob_score=True, bootstrap=True)\n",
    "\n",
    "parameters = {\n",
    "    \"max_depth\": list(np.arange(5, 15, 5)),\n",
    "    \"max_features\": [\"sqrt\", \"log2\"],\n",
    "    \"min_samples_split\": [5, 7],\n",
    "    \"n_estimators\": np.arange(15, 26, 5),\n",
    "}\n",
    "\n",
    "# Type of scoring used to compare parameter combinations\n",
    "acc_scorer = metrics.make_scorer(metrics.f1_score)\n",
    "\n",
    "# Run the grid search\n",
    "grid_obj = GridSearchCV(rf_tuned, parameters, scoring = acc_scorer, cv = 5, n_jobs = -1) ## Complete the code to run grid search with cv = 5 and n_jobs = -1\n",
    "grid_obj = grid_obj.fit(X_train, y_train) ## Complete the code to fit the grid_obj on the train data\n",
    "\n",
    "# Set the clf to the best combination of parameters\n",
    "rf_tuned = grid_obj.best_estimator_\n",
    "\n",
    "# Fit the best algorithm to the data.\n",
    "rf_tuned.fit(X_train, y_train)"
   ]
  },
  {
   "cell_type": "markdown",
   "id": "joint-appendix",
   "metadata": {
    "id": "joint-appendix"
   },
   "source": [
    "#### Checking model performance on training set"
   ]
  },
  {
   "cell_type": "code",
   "execution_count": null,
   "id": "broadband-issue",
   "metadata": {
    "colab": {
     "base_uri": "https://localhost:8080/",
     "height": 0
    },
    "executionInfo": {
     "elapsed": 325,
     "status": "ok",
     "timestamp": 1689195342290,
     "user": {
      "displayName": "Wade Smith",
      "userId": "10836431775502422548"
     },
     "user_tz": 240
    },
    "id": "broadband-issue",
    "outputId": "c7475e48-5540-41cd-91a4-d228fe2076ce"
   },
   "outputs": [],
   "source": [
    "confusion_matrix_sklearn(rf_tuned, X_train, y_train) ## Complete the code to create confusion matrix for train data on tuned estimator"
   ]
  },
  {
   "cell_type": "code",
   "execution_count": null,
   "id": "minus-publication",
   "metadata": {
    "colab": {
     "base_uri": "https://localhost:8080/",
     "height": 0
    },
    "executionInfo": {
     "elapsed": 10,
     "status": "ok",
     "timestamp": 1689195342291,
     "user": {
      "displayName": "Wade Smith",
      "userId": "10836431775502422548"
     },
     "user_tz": 240
    },
    "id": "minus-publication",
    "outputId": "e37a7060-adbd-49de-f2e2-b568baa3f8fa"
   },
   "outputs": [],
   "source": [
    "rf_tuned_model_train_perf = model_performance_classification_sklearn(rf_tuned, X_train, y_train) ## Complete the code to check performance for train data on tuned estimator\n",
    "rf_tuned_model_train_perf"
   ]
  },
  {
   "cell_type": "markdown",
   "id": "joined-newman",
   "metadata": {
    "id": "joined-newman"
   },
   "source": [
    "#### Checking model performance on test set"
   ]
  },
  {
   "cell_type": "code",
   "execution_count": null,
   "id": "higher-memphis",
   "metadata": {
    "colab": {
     "base_uri": "https://localhost:8080/",
     "height": 388
    },
    "executionInfo": {
     "elapsed": 320,
     "status": "ok",
     "timestamp": 1689195342602,
     "user": {
      "displayName": "Wade Smith",
      "userId": "10836431775502422548"
     },
     "user_tz": 240
    },
    "id": "higher-memphis",
    "outputId": "7e2d017b-1192-4530-ddd0-c2ea3c061a48"
   },
   "outputs": [],
   "source": [
    "confusion_matrix_sklearn(rf_tuned, X_test, y_test) ## Complete the code to create confusion matrix for test data on tuned estimator"
   ]
  },
  {
   "cell_type": "code",
   "execution_count": null,
   "id": "processed-capital",
   "metadata": {
    "colab": {
     "base_uri": "https://localhost:8080/",
     "height": 81
    },
    "executionInfo": {
     "elapsed": 9,
     "status": "ok",
     "timestamp": 1689195342603,
     "user": {
      "displayName": "Wade Smith",
      "userId": "10836431775502422548"
     },
     "user_tz": 240
    },
    "id": "processed-capital",
    "outputId": "f7642a90-009d-42ef-fec7-c4455ab172e5"
   },
   "outputs": [],
   "source": [
    "rf_tuned_model_test_perf = model_performance_classification_sklearn(rf_tuned, X_test, y_test) ## Complete the code to check performance for test data on tuned estimator\n",
    "rf_tuned_model_test_perf"
   ]
  },
  {
   "cell_type": "markdown",
   "id": "p33jg7JVid1H",
   "metadata": {
    "id": "p33jg7JVid1H"
   },
   "source": [
    "## Boosting - Model Building and Hyperparameter Tuning"
   ]
  },
  {
   "cell_type": "markdown",
   "id": "divine-legend",
   "metadata": {
    "id": "divine-legend"
   },
   "source": [
    "### AdaBoost Classifier"
   ]
  },
  {
   "cell_type": "code",
   "execution_count": null,
   "id": "written-chicken",
   "metadata": {
    "colab": {
     "base_uri": "https://localhost:8080/",
     "height": 75
    },
    "executionInfo": {
     "elapsed": 713,
     "status": "ok",
     "timestamp": 1689195343308,
     "user": {
      "displayName": "Wade Smith",
      "userId": "10836431775502422548"
     },
     "user_tz": 240
    },
    "id": "written-chicken",
    "outputId": "122a18d4-b4f5-488c-8f4d-5deeb3d70284"
   },
   "outputs": [],
   "source": [
    "ab_classifier = AdaBoostClassifier(random_state = 1) ## Complete the code to define AdaBoost Classifier with random state = 1\n",
    "ab_classifier.fit(X_train, y_train) ## Complete the code to fit AdaBoost Classifier on the train data"
   ]
  },
  {
   "cell_type": "markdown",
   "id": "grand-popularity",
   "metadata": {
    "id": "grand-popularity"
   },
   "source": [
    "#### Checking model performance on training set"
   ]
  },
  {
   "cell_type": "code",
   "execution_count": null,
   "id": "fatty-primary",
   "metadata": {
    "colab": {
     "base_uri": "https://localhost:8080/",
     "height": 0
    },
    "executionInfo": {
     "elapsed": 325,
     "status": "ok",
     "timestamp": 1689195343630,
     "user": {
      "displayName": "Wade Smith",
      "userId": "10836431775502422548"
     },
     "user_tz": 240
    },
    "id": "fatty-primary",
    "outputId": "43d23bcf-9b65-494f-a77b-cd32891f2bdb"
   },
   "outputs": [],
   "source": [
    "confusion_matrix_sklearn(ab_classifier, X_train, y_train) ## Complete the code to create confusion matrix for train data"
   ]
  },
  {
   "cell_type": "code",
   "execution_count": null,
   "id": "forty-blame",
   "metadata": {
    "colab": {
     "base_uri": "https://localhost:8080/",
     "height": 0
    },
    "executionInfo": {
     "elapsed": 9,
     "status": "ok",
     "timestamp": 1689195343631,
     "user": {
      "displayName": "Wade Smith",
      "userId": "10836431775502422548"
     },
     "user_tz": 240
    },
    "id": "forty-blame",
    "outputId": "0f8c8c2a-a6fc-4ae4-cf08-5e71e1f5510d"
   },
   "outputs": [],
   "source": [
    "ab_classifier_model_train_perf = model_performance_classification_sklearn(ab_classifier, X_train, y_train) ## Complete the code to check performance on train data\n",
    "ab_classifier_model_train_perf"
   ]
  },
  {
   "cell_type": "markdown",
   "id": "french-breed",
   "metadata": {
    "id": "french-breed"
   },
   "source": [
    "#### Checking model performance on test set"
   ]
  },
  {
   "cell_type": "code",
   "execution_count": null,
   "id": "enormous-musical",
   "metadata": {
    "colab": {
     "base_uri": "https://localhost:8080/",
     "height": 0
    },
    "executionInfo": {
     "elapsed": 611,
     "status": "ok",
     "timestamp": 1689195344234,
     "user": {
      "displayName": "Wade Smith",
      "userId": "10836431775502422548"
     },
     "user_tz": 240
    },
    "id": "enormous-musical",
    "outputId": "df08bb4c-45b2-4a3e-bcef-88c7b67faa05"
   },
   "outputs": [],
   "source": [
    "confusion_matrix_sklearn(ab_classifier, X_test, y_test) ## Complete the code to create confusion matrix for test data"
   ]
  },
  {
   "cell_type": "code",
   "execution_count": null,
   "id": "detailed-promise",
   "metadata": {
    "colab": {
     "base_uri": "https://localhost:8080/",
     "height": 0
    },
    "executionInfo": {
     "elapsed": 12,
     "status": "ok",
     "timestamp": 1689195344234,
     "user": {
      "displayName": "Wade Smith",
      "userId": "10836431775502422548"
     },
     "user_tz": 240
    },
    "id": "detailed-promise",
    "outputId": "f1b2a88a-c752-4ffa-fba1-9f2bf7346f28"
   },
   "outputs": [],
   "source": [
    "ab_classifier_model_test_perf = model_performance_classification_sklearn(ab_classifier, X_test, y_test) ## Complete the code to check performance for test data\n",
    "ab_classifier_model_test_perf"
   ]
  },
  {
   "cell_type": "markdown",
   "id": "increased-sharing",
   "metadata": {
    "id": "increased-sharing"
   },
   "source": [
    "### Hyperparameter Tuning - AdaBoost Classifier"
   ]
  },
  {
   "cell_type": "code",
   "execution_count": null,
   "id": "overall-grounds",
   "metadata": {
    "colab": {
     "base_uri": "https://localhost:8080/",
     "height": 0
    },
    "executionInfo": {
     "elapsed": 216585,
     "status": "ok",
     "timestamp": 1689195560808,
     "user": {
      "displayName": "Wade Smith",
      "userId": "10836431775502422548"
     },
     "user_tz": 240
    },
    "id": "overall-grounds",
    "outputId": "87185d8e-2fcd-4539-bf3f-3a42c0c774eb"
   },
   "outputs": [],
   "source": [
    "# Choose the type of classifier.\n",
    "abc_tuned = AdaBoostClassifier(random_state=1)\n",
    "\n",
    "# Grid of parameters to choose from\n",
    "parameters = {\n",
    "    # Let's try different max_depth for base_estimator\n",
    "    \"base_estimator\": [\n",
    "        DecisionTreeClassifier(max_depth=1, class_weight=\"balanced\", random_state=1),\n",
    "        DecisionTreeClassifier(max_depth=2, class_weight=\"balanced\", random_state=1),\n",
    "    ],\n",
    "    \"n_estimators\": np.arange(80, 101, 10),\n",
    "    \"learning_rate\": np.arange(0.1, 0.4, 0.1),\n",
    "}\n",
    "\n",
    "# Type of scoring used to compare parameter  combinations\n",
    "acc_scorer = metrics.make_scorer(metrics.f1_score)\n",
    "\n",
    "# Run the grid search\n",
    "grid_obj = GridSearchCV(abc_tuned, parameters, scoring = acc_scorer, cv = 5) ## Complete the code to run grid search with cv = 5\n",
    "grid_obj = grid_obj.fit(X_train, y_train) ## Complete the code to fit the grid_obj on train data\n",
    "\n",
    "# Set the clf to the best combination of parameters\n",
    "abc_tuned = grid_obj.best_estimator_\n",
    "\n",
    "# Fit the best algorithm to the data.\n",
    "abc_tuned.fit(X_train, y_train)"
   ]
  },
  {
   "cell_type": "markdown",
   "id": "adolescent-carroll",
   "metadata": {
    "id": "adolescent-carroll"
   },
   "source": [
    "#### Checking model performance on training set"
   ]
  },
  {
   "cell_type": "code",
   "execution_count": null,
   "id": "excessive-drilling",
   "metadata": {
    "colab": {
     "base_uri": "https://localhost:8080/",
     "height": 0
    },
    "executionInfo": {
     "elapsed": 10,
     "status": "ok",
     "timestamp": 1689195560809,
     "user": {
      "displayName": "Wade Smith",
      "userId": "10836431775502422548"
     },
     "user_tz": 240
    },
    "id": "excessive-drilling",
    "outputId": "d5ecb964-d67c-4536-8941-495de95bcfaa"
   },
   "outputs": [],
   "source": [
    "confusion_matrix_sklearn(abc_tuned, X_train, y_train) ## Complete the code to create confusion matrix for train data on tuned estimator"
   ]
  },
  {
   "cell_type": "code",
   "execution_count": null,
   "id": "broadband-dealer",
   "metadata": {
    "colab": {
     "base_uri": "https://localhost:8080/",
     "height": 0
    },
    "executionInfo": {
     "elapsed": 261,
     "status": "ok",
     "timestamp": 1689195561063,
     "user": {
      "displayName": "Wade Smith",
      "userId": "10836431775502422548"
     },
     "user_tz": 240
    },
    "id": "broadband-dealer",
    "outputId": "bf590d89-b40d-4e19-fa27-d59ea8c97c4d"
   },
   "outputs": [],
   "source": [
    "abc_tuned_model_train_perf = model_performance_classification_sklearn(abc_tuned, X_train, y_train) ## Complete the code to check performance for train data on tuned estimator\n",
    "abc_tuned_model_train_perf"
   ]
  },
  {
   "cell_type": "markdown",
   "id": "fitting-cameroon",
   "metadata": {
    "id": "fitting-cameroon"
   },
   "source": [
    "#### Checking model performance on test set"
   ]
  },
  {
   "cell_type": "code",
   "execution_count": null,
   "id": "central-forest",
   "metadata": {
    "colab": {
     "base_uri": "https://localhost:8080/",
     "height": 0
    },
    "executionInfo": {
     "elapsed": 265,
     "status": "ok",
     "timestamp": 1689195561323,
     "user": {
      "displayName": "Wade Smith",
      "userId": "10836431775502422548"
     },
     "user_tz": 240
    },
    "id": "central-forest",
    "outputId": "bd80cd1a-262d-4b16-a333-e7d981f6fff5"
   },
   "outputs": [],
   "source": [
    "confusion_matrix_sklearn(abc_tuned, X_test, y_test) ## Complete the code to create confusion matrix for test data on tuned estimator"
   ]
  },
  {
   "cell_type": "code",
   "execution_count": null,
   "id": "acting-edmonton",
   "metadata": {
    "colab": {
     "base_uri": "https://localhost:8080/",
     "height": 0
    },
    "executionInfo": {
     "elapsed": 312,
     "status": "ok",
     "timestamp": 1689195561629,
     "user": {
      "displayName": "Wade Smith",
      "userId": "10836431775502422548"
     },
     "user_tz": 240
    },
    "id": "acting-edmonton",
    "outputId": "c9c942cb-59c8-4e56-81a5-7fce62b0ba7f"
   },
   "outputs": [],
   "source": [
    "abc_tuned_model_test_perf = model_performance_classification_sklearn(abc_tuned, X_test, y_test) ## Complete the code to check performance for test data on tuned estimator\n",
    "abc_tuned_model_test_perf"
   ]
  },
  {
   "cell_type": "markdown",
   "id": "married-terminal",
   "metadata": {
    "id": "married-terminal"
   },
   "source": [
    "### Gradient Boosting Classifier"
   ]
  },
  {
   "cell_type": "code",
   "execution_count": null,
   "id": "indian-pierre",
   "metadata": {
    "colab": {
     "base_uri": "https://localhost:8080/",
     "height": 0
    },
    "executionInfo": {
     "elapsed": 2458,
     "status": "ok",
     "timestamp": 1689195564082,
     "user": {
      "displayName": "Wade Smith",
      "userId": "10836431775502422548"
     },
     "user_tz": 240
    },
    "id": "indian-pierre",
    "outputId": "15a50c53-6901-4064-b034-5ea1cdece710"
   },
   "outputs": [],
   "source": [
    "gb_classifier = GradientBoostingClassifier(random_state = 1) ## Complete the code to define Gradient Boosting Classifier with random state = 1\n",
    "gb_classifier.fit(X_train, y_train) ## Complete the code to fit Gradient Boosting Classifier on the train data"
   ]
  },
  {
   "cell_type": "markdown",
   "id": "fiscal-language",
   "metadata": {
    "id": "fiscal-language"
   },
   "source": [
    "#### Checking model performance on training set"
   ]
  },
  {
   "cell_type": "code",
   "execution_count": null,
   "id": "soviet-orange",
   "metadata": {
    "colab": {
     "base_uri": "https://localhost:8080/",
     "height": 0
    },
    "executionInfo": {
     "elapsed": 320,
     "status": "ok",
     "timestamp": 1689195564397,
     "user": {
      "displayName": "Wade Smith",
      "userId": "10836431775502422548"
     },
     "user_tz": 240
    },
    "id": "soviet-orange",
    "outputId": "fcf4db95-e9f1-4c67-ba77-27ee09a43a88"
   },
   "outputs": [],
   "source": [
    "confusion_matrix_sklearn(gb_classifier, X_train, y_train) ## Complete the code to create confusion matrix for train data"
   ]
  },
  {
   "cell_type": "code",
   "execution_count": null,
   "id": "respected-belief",
   "metadata": {
    "colab": {
     "base_uri": "https://localhost:8080/",
     "height": 0
    },
    "executionInfo": {
     "elapsed": 9,
     "status": "ok",
     "timestamp": 1689195564398,
     "user": {
      "displayName": "Wade Smith",
      "userId": "10836431775502422548"
     },
     "user_tz": 240
    },
    "id": "respected-belief",
    "outputId": "e2f30d1d-57ac-4084-d4db-a4f4cc9e05dd"
   },
   "outputs": [],
   "source": [
    "gb_classifier_model_train_perf = model_performance_classification_sklearn(gb_classifier, X_train, y_train) ## Complete the code to check performance on train data\n",
    "gb_classifier_model_train_perf"
   ]
  },
  {
   "cell_type": "markdown",
   "id": "tribal-rainbow",
   "metadata": {
    "id": "tribal-rainbow"
   },
   "source": [
    "#### Checking model performance on test set"
   ]
  },
  {
   "cell_type": "code",
   "execution_count": null,
   "id": "uniform-procedure",
   "metadata": {
    "colab": {
     "base_uri": "https://localhost:8080/",
     "height": 0
    },
    "executionInfo": {
     "elapsed": 624,
     "status": "ok",
     "timestamp": 1689195565015,
     "user": {
      "displayName": "Wade Smith",
      "userId": "10836431775502422548"
     },
     "user_tz": 240
    },
    "id": "uniform-procedure",
    "outputId": "71358d83-319a-4c50-eaa4-cf63ce4d4ad5"
   },
   "outputs": [],
   "source": [
    "confusion_matrix_sklearn(gb_classifier, X_test, y_test) ## Complete the code to create confusion matrix for test data"
   ]
  },
  {
   "cell_type": "code",
   "execution_count": null,
   "id": "blind-apparel",
   "metadata": {
    "colab": {
     "base_uri": "https://localhost:8080/",
     "height": 0
    },
    "executionInfo": {
     "elapsed": 11,
     "status": "ok",
     "timestamp": 1689195565016,
     "user": {
      "displayName": "Wade Smith",
      "userId": "10836431775502422548"
     },
     "user_tz": 240
    },
    "id": "blind-apparel",
    "outputId": "3bdd4fdd-3107-4dea-8885-dfc5e657a139"
   },
   "outputs": [],
   "source": [
    "gb_classifier_model_test_perf = model_performance_classification_sklearn(gb_classifier, X_test, y_test) ## Complete the code to check performance for test data\n",
    "gb_classifier_model_test_perf"
   ]
  },
  {
   "cell_type": "markdown",
   "id": "fuzzy-enemy",
   "metadata": {
    "id": "fuzzy-enemy"
   },
   "source": [
    "### Hyperparameter Tuning - Gradient Boosting Classifier"
   ]
  },
  {
   "cell_type": "code",
   "execution_count": null,
   "id": "based-bishop",
   "metadata": {
    "colab": {
     "base_uri": "https://localhost:8080/",
     "height": 0
    },
    "executionInfo": {
     "elapsed": 409189,
     "status": "ok",
     "timestamp": 1689195974197,
     "user": {
      "displayName": "Wade Smith",
      "userId": "10836431775502422548"
     },
     "user_tz": 240
    },
    "id": "based-bishop",
    "outputId": "61f40c4e-2b35-4b6f-96a9-69aed97b657c"
   },
   "outputs": [],
   "source": [
    "# Choose the type of classifier.\n",
    "gbc_tuned = GradientBoostingClassifier(\n",
    "    init=AdaBoostClassifier(random_state=1), random_state=1\n",
    ")\n",
    "\n",
    "# Grid of parameters to choose from\n",
    "parameters = {\n",
    "    \"n_estimators\": [200, 250],\n",
    "    \"subsample\": [0.9, 1],\n",
    "    \"max_features\": [0.8, 0.9],\n",
    "    \"learning_rate\": np.arange(0.1, 0.21, 0.1),\n",
    "}\n",
    "\n",
    "# Type of scoring used to compare parameter combinations\n",
    "acc_scorer = metrics.make_scorer(metrics.f1_score)\n",
    "\n",
    "# Run the grid search\n",
    "grid_obj = GridSearchCV(gbc_tuned, parameters, scoring = acc_scorer, cv = 5) ## Complete the code to run grid search with cv = 5\n",
    "grid_obj = grid_obj.fit(X_train, y_train) ## Complete the code to fit the grid_obj on train data\n",
    "\n",
    "# Set the clf to the best combination of parameters\n",
    "gbc_tuned = grid_obj.best_estimator_\n",
    "\n",
    "# Fit the best algorithm to the data.\n",
    "gbc_tuned.fit(X_train, y_train)"
   ]
  },
  {
   "cell_type": "markdown",
   "id": "standard-islam",
   "metadata": {
    "id": "standard-islam"
   },
   "source": [
    "#### Checking model performance on training set"
   ]
  },
  {
   "cell_type": "code",
   "execution_count": null,
   "id": "verbal-japanese",
   "metadata": {
    "colab": {
     "base_uri": "https://localhost:8080/",
     "height": 0
    },
    "executionInfo": {
     "elapsed": 318,
     "status": "ok",
     "timestamp": 1689195974511,
     "user": {
      "displayName": "Wade Smith",
      "userId": "10836431775502422548"
     },
     "user_tz": 240
    },
    "id": "verbal-japanese",
    "outputId": "9259127b-f763-424d-f58c-a517c310f72f"
   },
   "outputs": [],
   "source": [
    "confusion_matrix_sklearn(gbc_tuned, X_train, y_train) ## Complete the code to create confusion matrix for train data on tuned estimator"
   ]
  },
  {
   "cell_type": "code",
   "execution_count": null,
   "id": "passive-accent",
   "metadata": {
    "colab": {
     "base_uri": "https://localhost:8080/",
     "height": 0
    },
    "executionInfo": {
     "elapsed": 313,
     "status": "ok",
     "timestamp": 1689195974819,
     "user": {
      "displayName": "Wade Smith",
      "userId": "10836431775502422548"
     },
     "user_tz": 240
    },
    "id": "passive-accent",
    "outputId": "844a58c3-3cfe-4ed0-ac86-0e635fb0cba4"
   },
   "outputs": [],
   "source": [
    "gbc_tuned_model_train_perf = model_performance_classification_sklearn(gbc_tuned, X_train, y_train) ## Complete the code to check performance for train data on tuned estimator\n",
    "gbc_tuned_model_train_perf"
   ]
  },
  {
   "cell_type": "markdown",
   "id": "subsequent-royalty",
   "metadata": {
    "id": "subsequent-royalty"
   },
   "source": [
    "#### Checking model performance on test set"
   ]
  },
  {
   "cell_type": "code",
   "execution_count": null,
   "id": "other-pharmaceutical",
   "metadata": {
    "colab": {
     "base_uri": "https://localhost:8080/",
     "height": 0
    },
    "executionInfo": {
     "elapsed": 664,
     "status": "ok",
     "timestamp": 1689195975478,
     "user": {
      "displayName": "Wade Smith",
      "userId": "10836431775502422548"
     },
     "user_tz": 240
    },
    "id": "other-pharmaceutical",
    "outputId": "ad45d484-942d-40f0-81c2-7e356b4c3fbf"
   },
   "outputs": [],
   "source": [
    "confusion_matrix_sklearn(gbc_tuned, X_test, y_test) ## Complete the code to create confusion matrix for test data on tuned estimator"
   ]
  },
  {
   "cell_type": "code",
   "execution_count": null,
   "id": "forward-perspective",
   "metadata": {
    "colab": {
     "base_uri": "https://localhost:8080/",
     "height": 0
    },
    "executionInfo": {
     "elapsed": 10,
     "status": "ok",
     "timestamp": 1689195975479,
     "user": {
      "displayName": "Wade Smith",
      "userId": "10836431775502422548"
     },
     "user_tz": 240
    },
    "id": "forward-perspective",
    "outputId": "1e30dcf4-722f-47f4-ae6a-000832646b97"
   },
   "outputs": [],
   "source": [
    "gbc_tuned_model_test_perf = model_performance_classification_sklearn(gbc_tuned, X_test, y_test) ## Complete the code to check performance for test data on tuned estimator\n",
    "gbc_tuned_model_test_perf"
   ]
  },
  {
   "cell_type": "markdown",
   "id": "1415e2a1",
   "metadata": {
    "id": "1415e2a1"
   },
   "source": [
    "### Note - You can choose **not to build** XGBoost if you have any installation issues"
   ]
  },
  {
   "cell_type": "markdown",
   "id": "superior-letter",
   "metadata": {
    "id": "superior-letter"
   },
   "source": [
    "### XGBoost Classifier"
   ]
  },
  {
   "cell_type": "code",
   "execution_count": null,
   "id": "laden-brighton",
   "metadata": {
    "colab": {
     "base_uri": "https://localhost:8080/",
     "height": 0
    },
    "executionInfo": {
     "elapsed": 2543,
     "status": "ok",
     "timestamp": 1689195978015,
     "user": {
      "displayName": "Wade Smith",
      "userId": "10836431775502422548"
     },
     "user_tz": 240
    },
    "id": "laden-brighton",
    "outputId": "b860a473-8b2b-4ad4-bad2-e11cb98ebedf"
   },
   "outputs": [],
   "source": [
    "xgb_classifier = XGBClassifier(random_state = 1, eval_metric = 'logloss') ## Complete the code to define XGBoost Classifier with random state = 1 and eval_metric=\"logloss\"\n",
    "xgb_classifier.fit(X_train, y_train) ## Complete the code to fit XGBoost Classifier on the train data"
   ]
  },
  {
   "cell_type": "markdown",
   "id": "muslim-machine",
   "metadata": {
    "id": "muslim-machine"
   },
   "source": [
    "#### Checking model performance on training set"
   ]
  },
  {
   "cell_type": "code",
   "execution_count": null,
   "id": "subsequent-dividend",
   "metadata": {
    "colab": {
     "base_uri": "https://localhost:8080/",
     "height": 0
    },
    "executionInfo": {
     "elapsed": 598,
     "status": "ok",
     "timestamp": 1689195978606,
     "user": {
      "displayName": "Wade Smith",
      "userId": "10836431775502422548"
     },
     "user_tz": 240
    },
    "id": "subsequent-dividend",
    "outputId": "a88aaa1d-302f-486d-9ad1-bb445ea387e0"
   },
   "outputs": [],
   "source": [
    "confusion_matrix_sklearn(xgb_classifier, X_train, y_train) ## Complete the code to create confusion matrix for train data"
   ]
  },
  {
   "cell_type": "code",
   "execution_count": null,
   "id": "creative-shock",
   "metadata": {
    "colab": {
     "base_uri": "https://localhost:8080/",
     "height": 0
    },
    "executionInfo": {
     "elapsed": 9,
     "status": "ok",
     "timestamp": 1689195978607,
     "user": {
      "displayName": "Wade Smith",
      "userId": "10836431775502422548"
     },
     "user_tz": 240
    },
    "id": "creative-shock",
    "outputId": "dc701b07-4dc0-4059-f518-80d4c001df1f"
   },
   "outputs": [],
   "source": [
    "xgb_classifier_model_train_perf = model_performance_classification_sklearn(xgb_classifier, X_train, y_train) ## Complete the code to check performance on train data\n",
    "xgb_classifier_model_train_perf"
   ]
  },
  {
   "cell_type": "markdown",
   "id": "advised-rabbit",
   "metadata": {
    "id": "advised-rabbit"
   },
   "source": [
    "#### Checking model performance on test set"
   ]
  },
  {
   "cell_type": "code",
   "execution_count": null,
   "id": "intense-delhi",
   "metadata": {
    "colab": {
     "base_uri": "https://localhost:8080/",
     "height": 0
    },
    "executionInfo": {
     "elapsed": 322,
     "status": "ok",
     "timestamp": 1689195978922,
     "user": {
      "displayName": "Wade Smith",
      "userId": "10836431775502422548"
     },
     "user_tz": 240
    },
    "id": "intense-delhi",
    "outputId": "29515974-988b-402b-d532-51098a75ea6b"
   },
   "outputs": [],
   "source": [
    "confusion_matrix_sklearn(xgb_classifier, X_test, y_test) ## Complete the code to create confusion matrix for test data"
   ]
  },
  {
   "cell_type": "code",
   "execution_count": null,
   "id": "conventional-hierarchy",
   "metadata": {
    "colab": {
     "base_uri": "https://localhost:8080/",
     "height": 0
    },
    "executionInfo": {
     "elapsed": 9,
     "status": "ok",
     "timestamp": 1689195978922,
     "user": {
      "displayName": "Wade Smith",
      "userId": "10836431775502422548"
     },
     "user_tz": 240
    },
    "id": "conventional-hierarchy",
    "outputId": "06e1bee0-823b-4450-e558-e041fe69424f"
   },
   "outputs": [],
   "source": [
    "xgb_classifier_model_test_perf = model_performance_classification_sklearn(xgb_classifier, X_test, y_test) ## Complete the code to check performance for test data\n",
    "xgb_classifier_model_test_perf"
   ]
  },
  {
   "cell_type": "markdown",
   "id": "mobile-chosen",
   "metadata": {
    "id": "mobile-chosen"
   },
   "source": [
    "### Hyperparameter Tuning - XGBoost Classifier"
   ]
  },
  {
   "cell_type": "code",
   "execution_count": null,
   "id": "aerial-trunk",
   "metadata": {
    "colab": {
     "base_uri": "https://localhost:8080/",
     "height": 0
    },
    "executionInfo": {
     "elapsed": 2062812,
     "status": "ok",
     "timestamp": 1689198041726,
     "user": {
      "displayName": "Wade Smith",
      "userId": "10836431775502422548"
     },
     "user_tz": 240
    },
    "id": "aerial-trunk",
    "outputId": "2fa57042-b877-4fc4-9d3f-4057bfa397a3"
   },
   "outputs": [],
   "source": [
    "# Choose the type of classifier.\n",
    "xgb_tuned = XGBClassifier(random_state=1, eval_metric=\"logloss\")\n",
    "\n",
    "# Grid of parameters to choose from\n",
    "parameters = {\n",
    "    \"n_estimators\": np.arange(150, 250, 50),\n",
    "    \"scale_pos_weight\": [1, 2],\n",
    "    \"subsample\": [0.9, 1],\n",
    "    \"learning_rate\": np.arange(0.1, 0.21, 0.1),\n",
    "    \"gamma\": [3, 5],\n",
    "    \"colsample_bytree\": [0.8, 0.9],\n",
    "    \"colsample_bylevel\": [ 0.9, 1],\n",
    "}\n",
    "\n",
    "# Type of scoring used to compare parameter combinations\n",
    "acc_scorer = metrics.make_scorer(metrics.f1_score)\n",
    "\n",
    "# Run the grid search\n",
    "grid_obj = GridSearchCV(xgb_tuned, parameters, scoring = acc_scorer, cv = 5) ## Complete the code to run grid search with cv = 5\n",
    "grid_obj = grid_obj.fit(X_train, y_train) ## Complete the code to fit the grid_obj on train data\n",
    "\n",
    "# Set the clf to the best combination of parameters\n",
    "xgb_tuned = grid_obj.best_estimator_\n",
    "\n",
    "# Fit the best algorithm to the data.\n",
    "xgb_tuned.fit(X_train, y_train)"
   ]
  },
  {
   "cell_type": "markdown",
   "id": "psychological-plenty",
   "metadata": {
    "id": "psychological-plenty"
   },
   "source": [
    "#### Checking model performance on training set"
   ]
  },
  {
   "cell_type": "code",
   "execution_count": null,
   "id": "static-yesterday",
   "metadata": {
    "colab": {
     "base_uri": "https://localhost:8080/",
     "height": 0
    },
    "executionInfo": {
     "elapsed": 26,
     "status": "ok",
     "timestamp": 1689198041729,
     "user": {
      "displayName": "Wade Smith",
      "userId": "10836431775502422548"
     },
     "user_tz": 240
    },
    "id": "static-yesterday",
    "outputId": "c7a6bb13-0dde-43fa-e142-0908aab447d8"
   },
   "outputs": [],
   "source": [
    "confusion_matrix_sklearn(xgb_tuned, X_train, y_train) ## Complete the code to create confusion matrix for train data on tuned estimator"
   ]
  },
  {
   "cell_type": "code",
   "execution_count": null,
   "id": "premium-today",
   "metadata": {
    "colab": {
     "base_uri": "https://localhost:8080/",
     "height": 0
    },
    "executionInfo": {
     "elapsed": 22,
     "status": "ok",
     "timestamp": 1689198041729,
     "user": {
      "displayName": "Wade Smith",
      "userId": "10836431775502422548"
     },
     "user_tz": 240
    },
    "id": "premium-today",
    "outputId": "a91f5a5f-f3da-446f-dfab-456265a45927"
   },
   "outputs": [],
   "source": [
    "xgb_tuned_model_train_perf = model_performance_classification_sklearn(xgb_tuned, X_train, y_train) ## Complete the code to check performance for train data on tuned estimator\n",
    "xgb_tuned_model_train_perf"
   ]
  },
  {
   "cell_type": "markdown",
   "id": "awful-judgment",
   "metadata": {
    "id": "awful-judgment"
   },
   "source": [
    "#### Checking model performance on test set"
   ]
  },
  {
   "cell_type": "code",
   "execution_count": null,
   "id": "thrown-toilet",
   "metadata": {
    "colab": {
     "base_uri": "https://localhost:8080/",
     "height": 0
    },
    "executionInfo": {
     "elapsed": 316,
     "status": "ok",
     "timestamp": 1689198042024,
     "user": {
      "displayName": "Wade Smith",
      "userId": "10836431775502422548"
     },
     "user_tz": 240
    },
    "id": "thrown-toilet",
    "outputId": "93d974d9-4224-4848-bd92-8b5cf671145c"
   },
   "outputs": [],
   "source": [
    "confusion_matrix_sklearn(xgb_tuned, X_test, y_test) ## Complete the code to create confusion matrix for test data on tuned estimator"
   ]
  },
  {
   "cell_type": "code",
   "execution_count": null,
   "id": "available-irrigation",
   "metadata": {
    "colab": {
     "base_uri": "https://localhost:8080/",
     "height": 0
    },
    "executionInfo": {
     "elapsed": 9,
     "status": "ok",
     "timestamp": 1689198042025,
     "user": {
      "displayName": "Wade Smith",
      "userId": "10836431775502422548"
     },
     "user_tz": 240
    },
    "id": "available-irrigation",
    "outputId": "ea79af9d-385d-4599-ff5b-6a7e465c86e3"
   },
   "outputs": [],
   "source": [
    "xgb_tuned_model_test_perf = model_performance_classification_sklearn(xgb_tuned, X_test, y_test) ## Complete the code to check performance for test data on tuned estimator\n",
    "xgb_tuned_model_test_perf"
   ]
  },
  {
   "cell_type": "markdown",
   "id": "disciplinary-manhattan",
   "metadata": {
    "id": "disciplinary-manhattan"
   },
   "source": [
    "## Stacking Classifier"
   ]
  },
  {
   "cell_type": "code",
   "execution_count": null,
   "id": "massive-cincinnati",
   "metadata": {
    "colab": {
     "base_uri": "https://localhost:8080/",
     "height": 204
    },
    "executionInfo": {
     "elapsed": 35286,
     "status": "ok",
     "timestamp": 1689198077303,
     "user": {
      "displayName": "Wade Smith",
      "userId": "10836431775502422548"
     },
     "user_tz": 240
    },
    "id": "massive-cincinnati",
    "outputId": "3aca6999-0e0f-4da3-e776-caa359a62e07"
   },
   "outputs": [],
   "source": [
    "estimators = [\n",
    "    (\"AdaBoost\", ab_classifier),\n",
    "    (\"Gradient Boosting\", gbc_tuned),\n",
    "    (\"Random Forest\", rf_tuned),\n",
    "]\n",
    "\n",
    "final_estimator = xgb_tuned\n",
    "\n",
    "stacking_classifier = StackingClassifier(estimators, final_estimator) ## Complete the code to define Stacking Classifier\n",
    "\n",
    "stacking_classifier.fit(X_train, y_train) ## Complete the code to fit Stacking Classifier on the train data"
   ]
  },
  {
   "cell_type": "markdown",
   "id": "greek-jefferson",
   "metadata": {
    "id": "greek-jefferson"
   },
   "source": [
    "### Checking model performance on training set"
   ]
  },
  {
   "cell_type": "code",
   "execution_count": null,
   "id": "under-brazilian",
   "metadata": {
    "colab": {
     "base_uri": "https://localhost:8080/",
     "height": 388
    },
    "executionInfo": {
     "elapsed": 666,
     "status": "ok",
     "timestamp": 1689198077966,
     "user": {
      "displayName": "Wade Smith",
      "userId": "10836431775502422548"
     },
     "user_tz": 240
    },
    "id": "under-brazilian",
    "outputId": "60e01768-bcdf-4c1f-dbd2-ceebd1e3fc85"
   },
   "outputs": [],
   "source": [
    "confusion_matrix_sklearn(stacking_classifier, X_train, y_train) ## Complete the code to create confusion matrix for train data"
   ]
  },
  {
   "cell_type": "code",
   "execution_count": null,
   "id": "apparent-greenhouse",
   "metadata": {
    "colab": {
     "base_uri": "https://localhost:8080/",
     "height": 81
    },
    "executionInfo": {
     "elapsed": 309,
     "status": "ok",
     "timestamp": 1689198078270,
     "user": {
      "displayName": "Wade Smith",
      "userId": "10836431775502422548"
     },
     "user_tz": 240
    },
    "id": "apparent-greenhouse",
    "outputId": "1f165408-2ff8-4722-e97a-ff6025c99267"
   },
   "outputs": [],
   "source": [
    "stacking_classifier_model_train_perf = model_performance_classification_sklearn(stacking_classifier, X_train, y_train) ## Complete the code to check performance on train data\n",
    "stacking_classifier_model_train_perf"
   ]
  },
  {
   "cell_type": "markdown",
   "id": "corrected-agency",
   "metadata": {
    "id": "corrected-agency"
   },
   "source": [
    "### Checking model performance on test set"
   ]
  },
  {
   "cell_type": "code",
   "execution_count": null,
   "id": "empty-agent",
   "metadata": {
    "colab": {
     "base_uri": "https://localhost:8080/",
     "height": 388
    },
    "executionInfo": {
     "elapsed": 320,
     "status": "ok",
     "timestamp": 1689198078585,
     "user": {
      "displayName": "Wade Smith",
      "userId": "10836431775502422548"
     },
     "user_tz": 240
    },
    "id": "empty-agent",
    "outputId": "a8e380b6-9912-4e2b-cff2-bfbc18e6402e"
   },
   "outputs": [],
   "source": [
    "confusion_matrix_sklearn(stacking_classifier, X_test, y_test) ## Complete the code to create confusion matrix for test data"
   ]
  },
  {
   "cell_type": "code",
   "execution_count": null,
   "id": "quantitative-neighborhood",
   "metadata": {
    "colab": {
     "base_uri": "https://localhost:8080/",
     "height": 81
    },
    "executionInfo": {
     "elapsed": 323,
     "status": "ok",
     "timestamp": 1689198078900,
     "user": {
      "displayName": "Wade Smith",
      "userId": "10836431775502422548"
     },
     "user_tz": 240
    },
    "id": "quantitative-neighborhood",
    "outputId": "51d64f85-dd0e-4476-ba2c-860dd7685b14"
   },
   "outputs": [],
   "source": [
    "stacking_classifier_model_test_perf = model_performance_classification_sklearn(stacking_classifier, X_test, y_test) ## Complete the code to check performance for test data\n",
    "stacking_classifier_model_test_perf"
   ]
  },
  {
   "cell_type": "markdown",
   "id": "mechanical-clarity",
   "metadata": {
    "id": "mechanical-clarity"
   },
   "source": [
    "## Model Performance Comparison and Final Model Selection"
   ]
  },
  {
   "cell_type": "code",
   "execution_count": null,
   "id": "future-irrigation",
   "metadata": {
    "colab": {
     "base_uri": "https://localhost:8080/",
     "height": 308
    },
    "executionInfo": {
     "elapsed": 17,
     "status": "ok",
     "timestamp": 1689198078900,
     "user": {
      "displayName": "Wade Smith",
      "userId": "10836431775502422548"
     },
     "user_tz": 240
    },
    "id": "future-irrigation",
    "outputId": "695f0ca5-a173-4151-f51f-e13d6681423c"
   },
   "outputs": [],
   "source": [
    "# training performance comparison\n",
    "\n",
    "models_train_comp_df = pd.concat(\n",
    "    [\n",
    "        decision_tree_perf_train.T,\n",
    "        dtree_estimator_model_train_perf.T,\n",
    "        bagging_classifier_model_train_perf.T,\n",
    "        bagging_estimator_tuned_model_train_perf.T,\n",
    "        rf_estimator_model_train_perf.T,\n",
    "        rf_tuned_model_train_perf.T,\n",
    "        ab_classifier_model_train_perf.T,\n",
    "        abc_tuned_model_train_perf.T,\n",
    "        gb_classifier_model_train_perf.T,\n",
    "        gbc_tuned_model_train_perf.T,\n",
    "        xgb_classifier_model_train_perf.T,\n",
    "        xgb_tuned_model_train_perf.T,\n",
    "        stacking_classifier_model_train_perf.T,\n",
    "    ],\n",
    "    axis=1,\n",
    ")\n",
    "models_train_comp_df.columns = [\n",
    "    \"Decision Tree\",\n",
    "    \"Tuned Decision Tree\",\n",
    "    \"Bagging Classifier\",\n",
    "    \"Tuned Bagging Classifier\",\n",
    "    \"Random Forest\",\n",
    "    \"Tuned Random Forest\",\n",
    "    \"Adaboost Classifier\",\n",
    "    \"Tuned Adaboost Classifier\",\n",
    "    \"Gradient Boost Classifier\",\n",
    "    \"Tuned Gradient Boost Classifier\",\n",
    "    \"XGBoost Classifier\",\n",
    "    \"XGBoost Classifier Tuned\",\n",
    "    \"Stacking Classifier\",\n",
    "]\n",
    "print(\"Training performance comparison:\")\n",
    "models_train_comp_df"
   ]
  },
  {
   "cell_type": "code",
   "execution_count": null,
   "id": "collective-fireplace",
   "metadata": {
    "colab": {
     "base_uri": "https://localhost:8080/",
     "height": 308
    },
    "executionInfo": {
     "elapsed": 16,
     "status": "ok",
     "timestamp": 1689198078901,
     "user": {
      "displayName": "Wade Smith",
      "userId": "10836431775502422548"
     },
     "user_tz": 240
    },
    "id": "collective-fireplace",
    "outputId": "6d72fd41-285e-48ab-80ed-a40efcc65437"
   },
   "outputs": [],
   "source": [
    "# testing performance comparison\n",
    "\n",
    "models_test_comp_df = pd.concat(\n",
    "    [\n",
    "        decision_tree_perf_test.T,\n",
    "        dtree_estimator_model_test_perf.T,\n",
    "        bagging_classifier_model_test_perf.T,\n",
    "        bagging_estimator_tuned_model_test_perf.T,\n",
    "        rf_estimator_model_test_perf.T,\n",
    "        rf_tuned_model_test_perf.T,\n",
    "        ab_classifier_model_test_perf.T,\n",
    "        abc_tuned_model_test_perf.T,\n",
    "        gb_classifier_model_test_perf.T,\n",
    "        gbc_tuned_model_test_perf.T,\n",
    "        xgb_classifier_model_test_perf.T,\n",
    "        xgb_tuned_model_test_perf.T,\n",
    "        stacking_classifier_model_test_perf.T,\n",
    "    ],\n",
    "    axis=1,\n",
    ")\n",
    "models_test_comp_df.columns = [\n",
    "    \"Decision Tree\",\n",
    "    \"Tuned Decision Tree\",\n",
    "    \"Bagging Classifier\",\n",
    "    \"Tuned Bagging Classifier\",\n",
    "    \"Random Forest\",\n",
    "    \"Tuned Random Forest\",\n",
    "    \"Adaboost Classifier\",\n",
    "    \"Tuned Adaboost Classifier\",\n",
    "    \"Gradient Boost Classifier\",\n",
    "    \"Tuned Gradient Boost Classifier\",\n",
    "    \"XGBoost Classifier\",\n",
    "    \"XGBoost Classifier Tuned\",\n",
    "    \"Stacking Classifier\",\n",
    "]\n",
    "print(\"Test performance comparison:\")\n",
    "models_test_comp_df ## Complete the code to check performance for test data"
   ]
  },
  {
   "cell_type": "markdown",
   "id": "stone-venezuela",
   "metadata": {
    "id": "stone-venezuela"
   },
   "source": [
    "### Important features of the final model"
   ]
  },
  {
   "cell_type": "code",
   "execution_count": null,
   "id": "forty-mayor",
   "metadata": {
    "colab": {
     "base_uri": "https://localhost:8080/",
     "height": 1000
    },
    "executionInfo": {
     "elapsed": 636,
     "status": "ok",
     "timestamp": 1689198079524,
     "user": {
      "displayName": "Wade Smith",
      "userId": "10836431775502422548"
     },
     "user_tz": 240
    },
    "id": "forty-mayor",
    "outputId": "04d0b7f0-12a7-4076-9e25-9623bf17da09"
   },
   "outputs": [],
   "source": [
    "feature_names = X_train.columns\n",
    "importances = gb_classifier.feature_importances_\n",
    "indices = np.argsort(importances)\n",
    "\n",
    "plt.figure(figsize=(12, 12))\n",
    "plt.title(\"Feature Importances\")\n",
    "plt.barh(range(len(indices)), importances[indices], color=\"violet\", align=\"center\")\n",
    "plt.yticks(range(len(indices)), [feature_names[i] for i in indices])\n",
    "plt.xlabel(\"Relative Importance\")\n",
    "plt.show()"
   ]
  },
  {
   "cell_type": "markdown",
   "id": "congressional-knock",
   "metadata": {
    "id": "congressional-knock"
   },
   "source": [
    "## Business Insights and Recommendations"
   ]
  },
  {
   "cell_type": "markdown",
   "id": "Am_0CWgMeXxY",
   "metadata": {
    "id": "Am_0CWgMeXxY"
   },
   "source": [
    "-\n"
   ]
  },
  {
   "cell_type": "markdown",
   "id": "4kJHJ56seYnH",
   "metadata": {
    "id": "4kJHJ56seYnH"
   },
   "source": [
    "___"
   ]
  }
 ],
 "metadata": {
  "colab": {
   "collapsed_sections": [
    "2xUfZBo9JM9e",
    "c1cd4628",
    "thorough-passion",
    "6vlJXoQkgcGI",
    "aboriginal-wrist",
    "accessory-camel",
    "assigned-berkeley",
    "standing-horizontal",
    "american-venue",
    "competent-timing",
    "cutting-bookmark",
    "wooden-christian",
    "comic-inventory",
    "metric-apparel",
    "bulgarian-parts",
    "editorial-command",
    "forbidden-kidney",
    "amateur-above",
    "attempted-burlington",
    "aging-curve",
    "stunning-surrey",
    "equivalent-aging",
    "dressed-excuse",
    "wound-communication",
    "theoretical-flexibility",
    "attended-current",
    "macro-decrease",
    "binding-charger",
    "lesser-bacteria",
    "changing-kansas",
    "suspected-asthma",
    "icaAgO2siAcs",
    "allied-association",
    "flexible-independence",
    "teKIRZIDdzpK",
    "71450807",
    "ICezcLI4iL0a",
    "blank-ballet",
    "increasing-diversity",
    "material-reduction",
    "protected-romantic",
    "FnQnoNOCiSwl",
    "aging-corruption",
    "suffering-growing",
    "verified-obligation",
    "increased-civilian",
    "protecting-douglas",
    "elegant-bookmark",
    "colonial-society",
    "possible-vinyl",
    "theoretical-poverty",
    "beneficial-bosnia",
    "joint-appendix",
    "joined-newman",
    "p33jg7JVid1H",
    "divine-legend",
    "grand-popularity",
    "french-breed",
    "increased-sharing",
    "adolescent-carroll",
    "fitting-cameroon",
    "married-terminal",
    "fiscal-language",
    "tribal-rainbow",
    "fuzzy-enemy",
    "standard-islam",
    "subsequent-royalty",
    "1415e2a1",
    "superior-letter",
    "muslim-machine",
    "advised-rabbit",
    "mobile-chosen",
    "psychological-plenty",
    "awful-judgment",
    "disciplinary-manhattan",
    "greek-jefferson",
    "corrected-agency",
    "mechanical-clarity",
    "stone-venezuela",
    "congressional-knock"
   ],
   "provenance": []
  },
  "kernelspec": {
   "display_name": "Python 3 (ipykernel)",
   "language": "python",
   "name": "python3"
  },
  "language_info": {
   "codemirror_mode": {
    "name": "ipython",
    "version": 3
   },
   "file_extension": ".py",
   "mimetype": "text/x-python",
   "name": "python",
   "nbconvert_exporter": "python",
   "pygments_lexer": "ipython3",
   "version": "3.9.13"
  }
 },
 "nbformat": 4,
 "nbformat_minor": 5
}
